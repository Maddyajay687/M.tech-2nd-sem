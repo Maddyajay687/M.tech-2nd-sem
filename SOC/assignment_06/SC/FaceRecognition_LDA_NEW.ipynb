{
 "cells": [
  {
   "cell_type": "code",
   "execution_count": 5,
   "metadata": {
    "ExecuteTime": {
     "end_time": "2019-04-05T04:11:09.599876Z",
     "start_time": "2019-04-05T04:11:09.592617Z"
    },
    "cell_style": "center"
   },
   "outputs": [],
   "source": [
    "from os import *\n",
    "from os.path import *\n",
    "import numpy as np\n",
    "import pandas as pd\n",
    "from sklearn.metrics import accuracy_score\n",
    "from skimage.io import imread,imshow\n",
    "from numpy.linalg import inv\n",
    "import os"
   ]
  },
  {
   "cell_type": "code",
   "execution_count": 10,
   "metadata": {
    "ExecuteTime": {
     "end_time": "2019-04-05T04:11:09.983833Z",
     "start_time": "2019-04-05T04:11:09.976947Z"
    },
    "cell_style": "center"
   },
   "outputs": [],
   "source": [
    "path = 'Himages/'\n",
    "train_path = 'images/'\n",
    "test_path = 'images/'"
   ]
  },
  {
   "cell_type": "code",
   "execution_count": 13,
   "metadata": {
    "ExecuteTime": {
     "end_time": "2019-04-05T04:11:12.088608Z",
     "start_time": "2019-04-05T04:11:10.622605Z"
    }
   },
   "outputs": [
    {
     "name": "stdout",
     "output_type": "stream",
     "text": [
      "(75, 75, 3)\n",
      "(75, 75, 3)\n",
      "(75, 75, 3)\n",
      "(75, 75, 3)\n",
      "(75, 75, 3)\n",
      "(75, 75, 3)\n",
      "(75, 75, 3)\n",
      "(75, 75, 3)\n",
      "(75, 75, 3)\n",
      "(75, 75, 3)\n",
      "(75, 75, 3)\n",
      "(75, 75, 3)\n",
      "(75, 75, 3)\n",
      "(75, 75, 4)\n",
      "(75, 75, 4)\n",
      "(75, 75, 4)\n",
      "(75, 75, 3)\n",
      "(75, 75, 3)\n",
      "(75, 75, 3)\n",
      "(75, 75, 3)\n",
      "(75, 75, 3)\n",
      "(75, 75, 3)\n",
      "(75, 75, 3)\n",
      "(75, 75, 3)\n",
      "(75, 75, 3)\n",
      "(75, 75, 3)\n",
      "(75, 75, 3)\n",
      "(75, 75, 3)\n",
      "(75, 75, 3)\n",
      "(75, 75, 4)\n",
      "(75, 75, 4)\n",
      "(18, 22500)\n"
     ]
    }
   ],
   "source": [
    "def load(train_dir, test_dir):\n",
    "    train = [f for f in os.listdir(train_dir) if isfile(join(train_dir, f))]\n",
    "    test = [f for f in os.listdir(test_dir) if isfile(join(test_dir, f))]\n",
    "\n",
    "    n = len(train)\n",
    "    n1=len(test)\n",
    "\n",
    "    X_train = []\n",
    "    X_test = []\n",
    "\n",
    "    img_index = []\n",
    "\n",
    "    for i in range(len(train)):\n",
    "        fetch_im = imread(train_dir+train[i], as_gray=True)\n",
    "        print(fetch_im.shape)\n",
    "        X_train.append(fetch_im.flatten())\n",
    "\n",
    "    for i in range(len(test)):\n",
    "        fetch_im = imread(test_dir+test[i], as_gray=True)\n",
    "        print(fetch_im.shape)\n",
    "        X_test.append(fetch_im.flatten())\n",
    "        \n",
    "    X_train = pd.DataFrame(X_train)\n",
    "    X_test = pd.DataFrame(X_test)\n",
    "    print(X_train.shape)\n",
    "    return X_train, X_test, train, test\n",
    "X_train, X_test, train, test = load('train/', 'test/')"
   ]
  },
  {
   "cell_type": "code",
   "execution_count": 7,
   "metadata": {
    "ExecuteTime": {
     "end_time": "2019-04-05T04:11:12.391259Z",
     "start_time": "2019-04-05T04:11:12.091579Z"
    }
   },
   "outputs": [
    {
     "data": {
      "text/html": [
       "<div>\n",
       "<style scoped>\n",
       "    .dataframe tbody tr th:only-of-type {\n",
       "        vertical-align: middle;\n",
       "    }\n",
       "\n",
       "    .dataframe tbody tr th {\n",
       "        vertical-align: top;\n",
       "    }\n",
       "\n",
       "    .dataframe thead th {\n",
       "        text-align: right;\n",
       "    }\n",
       "</style>\n",
       "<table border=\"1\" class=\"dataframe\">\n",
       "  <thead>\n",
       "    <tr style=\"text-align: right;\">\n",
       "      <th></th>\n",
       "      <th>0</th>\n",
       "      <th>1</th>\n",
       "      <th>2</th>\n",
       "      <th>3</th>\n",
       "      <th>4</th>\n",
       "      <th>5</th>\n",
       "      <th>6</th>\n",
       "      <th>7</th>\n",
       "      <th>8</th>\n",
       "      <th>9</th>\n",
       "      <th>...</th>\n",
       "      <th>22490</th>\n",
       "      <th>22491</th>\n",
       "      <th>22492</th>\n",
       "      <th>22493</th>\n",
       "      <th>22494</th>\n",
       "      <th>22495</th>\n",
       "      <th>22496</th>\n",
       "      <th>22497</th>\n",
       "      <th>22498</th>\n",
       "      <th>22499</th>\n",
       "    </tr>\n",
       "  </thead>\n",
       "  <tbody>\n",
       "    <tr>\n",
       "      <th>0</th>\n",
       "      <td>192</td>\n",
       "      <td>185</td>\n",
       "      <td>131</td>\n",
       "      <td>193</td>\n",
       "      <td>186</td>\n",
       "      <td>132</td>\n",
       "      <td>194</td>\n",
       "      <td>187</td>\n",
       "      <td>135</td>\n",
       "      <td>197</td>\n",
       "      <td>...</td>\n",
       "      <td>NaN</td>\n",
       "      <td>NaN</td>\n",
       "      <td>NaN</td>\n",
       "      <td>NaN</td>\n",
       "      <td>NaN</td>\n",
       "      <td>NaN</td>\n",
       "      <td>NaN</td>\n",
       "      <td>NaN</td>\n",
       "      <td>NaN</td>\n",
       "      <td>NaN</td>\n",
       "    </tr>\n",
       "    <tr>\n",
       "      <th>1</th>\n",
       "      <td>37</td>\n",
       "      <td>52</td>\n",
       "      <td>11</td>\n",
       "      <td>35</td>\n",
       "      <td>48</td>\n",
       "      <td>18</td>\n",
       "      <td>31</td>\n",
       "      <td>42</td>\n",
       "      <td>25</td>\n",
       "      <td>46</td>\n",
       "      <td>...</td>\n",
       "      <td>NaN</td>\n",
       "      <td>NaN</td>\n",
       "      <td>NaN</td>\n",
       "      <td>NaN</td>\n",
       "      <td>NaN</td>\n",
       "      <td>NaN</td>\n",
       "      <td>NaN</td>\n",
       "      <td>NaN</td>\n",
       "      <td>NaN</td>\n",
       "      <td>NaN</td>\n",
       "    </tr>\n",
       "    <tr>\n",
       "      <th>2</th>\n",
       "      <td>121</td>\n",
       "      <td>137</td>\n",
       "      <td>126</td>\n",
       "      <td>128</td>\n",
       "      <td>144</td>\n",
       "      <td>133</td>\n",
       "      <td>133</td>\n",
       "      <td>149</td>\n",
       "      <td>138</td>\n",
       "      <td>131</td>\n",
       "      <td>...</td>\n",
       "      <td>NaN</td>\n",
       "      <td>NaN</td>\n",
       "      <td>NaN</td>\n",
       "      <td>NaN</td>\n",
       "      <td>NaN</td>\n",
       "      <td>NaN</td>\n",
       "      <td>NaN</td>\n",
       "      <td>NaN</td>\n",
       "      <td>NaN</td>\n",
       "      <td>NaN</td>\n",
       "    </tr>\n",
       "    <tr>\n",
       "      <th>3</th>\n",
       "      <td>165</td>\n",
       "      <td>192</td>\n",
       "      <td>221</td>\n",
       "      <td>165</td>\n",
       "      <td>192</td>\n",
       "      <td>221</td>\n",
       "      <td>165</td>\n",
       "      <td>192</td>\n",
       "      <td>221</td>\n",
       "      <td>165</td>\n",
       "      <td>...</td>\n",
       "      <td>NaN</td>\n",
       "      <td>NaN</td>\n",
       "      <td>NaN</td>\n",
       "      <td>NaN</td>\n",
       "      <td>NaN</td>\n",
       "      <td>NaN</td>\n",
       "      <td>NaN</td>\n",
       "      <td>NaN</td>\n",
       "      <td>NaN</td>\n",
       "      <td>NaN</td>\n",
       "    </tr>\n",
       "    <tr>\n",
       "      <th>4</th>\n",
       "      <td>255</td>\n",
       "      <td>255</td>\n",
       "      <td>255</td>\n",
       "      <td>255</td>\n",
       "      <td>255</td>\n",
       "      <td>255</td>\n",
       "      <td>255</td>\n",
       "      <td>255</td>\n",
       "      <td>255</td>\n",
       "      <td>255</td>\n",
       "      <td>...</td>\n",
       "      <td>NaN</td>\n",
       "      <td>NaN</td>\n",
       "      <td>NaN</td>\n",
       "      <td>NaN</td>\n",
       "      <td>NaN</td>\n",
       "      <td>NaN</td>\n",
       "      <td>NaN</td>\n",
       "      <td>NaN</td>\n",
       "      <td>NaN</td>\n",
       "      <td>NaN</td>\n",
       "    </tr>\n",
       "    <tr>\n",
       "      <th>5</th>\n",
       "      <td>154</td>\n",
       "      <td>156</td>\n",
       "      <td>153</td>\n",
       "      <td>161</td>\n",
       "      <td>161</td>\n",
       "      <td>159</td>\n",
       "      <td>159</td>\n",
       "      <td>159</td>\n",
       "      <td>157</td>\n",
       "      <td>156</td>\n",
       "      <td>...</td>\n",
       "      <td>NaN</td>\n",
       "      <td>NaN</td>\n",
       "      <td>NaN</td>\n",
       "      <td>NaN</td>\n",
       "      <td>NaN</td>\n",
       "      <td>NaN</td>\n",
       "      <td>NaN</td>\n",
       "      <td>NaN</td>\n",
       "      <td>NaN</td>\n",
       "      <td>NaN</td>\n",
       "    </tr>\n",
       "    <tr>\n",
       "      <th>6</th>\n",
       "      <td>255</td>\n",
       "      <td>255</td>\n",
       "      <td>255</td>\n",
       "      <td>255</td>\n",
       "      <td>255</td>\n",
       "      <td>255</td>\n",
       "      <td>255</td>\n",
       "      <td>255</td>\n",
       "      <td>255</td>\n",
       "      <td>255</td>\n",
       "      <td>...</td>\n",
       "      <td>NaN</td>\n",
       "      <td>NaN</td>\n",
       "      <td>NaN</td>\n",
       "      <td>NaN</td>\n",
       "      <td>NaN</td>\n",
       "      <td>NaN</td>\n",
       "      <td>NaN</td>\n",
       "      <td>NaN</td>\n",
       "      <td>NaN</td>\n",
       "      <td>NaN</td>\n",
       "    </tr>\n",
       "    <tr>\n",
       "      <th>7</th>\n",
       "      <td>161</td>\n",
       "      <td>163</td>\n",
       "      <td>116</td>\n",
       "      <td>163</td>\n",
       "      <td>165</td>\n",
       "      <td>118</td>\n",
       "      <td>151</td>\n",
       "      <td>153</td>\n",
       "      <td>106</td>\n",
       "      <td>144</td>\n",
       "      <td>...</td>\n",
       "      <td>NaN</td>\n",
       "      <td>NaN</td>\n",
       "      <td>NaN</td>\n",
       "      <td>NaN</td>\n",
       "      <td>NaN</td>\n",
       "      <td>NaN</td>\n",
       "      <td>NaN</td>\n",
       "      <td>NaN</td>\n",
       "      <td>NaN</td>\n",
       "      <td>NaN</td>\n",
       "    </tr>\n",
       "    <tr>\n",
       "      <th>8</th>\n",
       "      <td>98</td>\n",
       "      <td>129</td>\n",
       "      <td>69</td>\n",
       "      <td>93</td>\n",
       "      <td>125</td>\n",
       "      <td>62</td>\n",
       "      <td>96</td>\n",
       "      <td>128</td>\n",
       "      <td>61</td>\n",
       "      <td>99</td>\n",
       "      <td>...</td>\n",
       "      <td>NaN</td>\n",
       "      <td>NaN</td>\n",
       "      <td>NaN</td>\n",
       "      <td>NaN</td>\n",
       "      <td>NaN</td>\n",
       "      <td>NaN</td>\n",
       "      <td>NaN</td>\n",
       "      <td>NaN</td>\n",
       "      <td>NaN</td>\n",
       "      <td>NaN</td>\n",
       "    </tr>\n",
       "    <tr>\n",
       "      <th>9</th>\n",
       "      <td>233</td>\n",
       "      <td>158</td>\n",
       "      <td>103</td>\n",
       "      <td>233</td>\n",
       "      <td>156</td>\n",
       "      <td>102</td>\n",
       "      <td>231</td>\n",
       "      <td>154</td>\n",
       "      <td>98</td>\n",
       "      <td>231</td>\n",
       "      <td>...</td>\n",
       "      <td>NaN</td>\n",
       "      <td>NaN</td>\n",
       "      <td>NaN</td>\n",
       "      <td>NaN</td>\n",
       "      <td>NaN</td>\n",
       "      <td>NaN</td>\n",
       "      <td>NaN</td>\n",
       "      <td>NaN</td>\n",
       "      <td>NaN</td>\n",
       "      <td>NaN</td>\n",
       "    </tr>\n",
       "    <tr>\n",
       "      <th>10</th>\n",
       "      <td>245</td>\n",
       "      <td>235</td>\n",
       "      <td>226</td>\n",
       "      <td>245</td>\n",
       "      <td>232</td>\n",
       "      <td>223</td>\n",
       "      <td>247</td>\n",
       "      <td>233</td>\n",
       "      <td>222</td>\n",
       "      <td>249</td>\n",
       "      <td>...</td>\n",
       "      <td>NaN</td>\n",
       "      <td>NaN</td>\n",
       "      <td>NaN</td>\n",
       "      <td>NaN</td>\n",
       "      <td>NaN</td>\n",
       "      <td>NaN</td>\n",
       "      <td>NaN</td>\n",
       "      <td>NaN</td>\n",
       "      <td>NaN</td>\n",
       "      <td>NaN</td>\n",
       "    </tr>\n",
       "    <tr>\n",
       "      <th>11</th>\n",
       "      <td>15</td>\n",
       "      <td>25</td>\n",
       "      <td>34</td>\n",
       "      <td>15</td>\n",
       "      <td>25</td>\n",
       "      <td>34</td>\n",
       "      <td>15</td>\n",
       "      <td>25</td>\n",
       "      <td>34</td>\n",
       "      <td>15</td>\n",
       "      <td>...</td>\n",
       "      <td>NaN</td>\n",
       "      <td>NaN</td>\n",
       "      <td>NaN</td>\n",
       "      <td>NaN</td>\n",
       "      <td>NaN</td>\n",
       "      <td>NaN</td>\n",
       "      <td>NaN</td>\n",
       "      <td>NaN</td>\n",
       "      <td>NaN</td>\n",
       "      <td>NaN</td>\n",
       "    </tr>\n",
       "    <tr>\n",
       "      <th>12</th>\n",
       "      <td>5</td>\n",
       "      <td>5</td>\n",
       "      <td>5</td>\n",
       "      <td>5</td>\n",
       "      <td>5</td>\n",
       "      <td>5</td>\n",
       "      <td>6</td>\n",
       "      <td>6</td>\n",
       "      <td>6</td>\n",
       "      <td>6</td>\n",
       "      <td>...</td>\n",
       "      <td>NaN</td>\n",
       "      <td>NaN</td>\n",
       "      <td>NaN</td>\n",
       "      <td>NaN</td>\n",
       "      <td>NaN</td>\n",
       "      <td>NaN</td>\n",
       "      <td>NaN</td>\n",
       "      <td>NaN</td>\n",
       "      <td>NaN</td>\n",
       "      <td>NaN</td>\n",
       "    </tr>\n",
       "    <tr>\n",
       "      <th>13</th>\n",
       "      <td>146</td>\n",
       "      <td>153</td>\n",
       "      <td>119</td>\n",
       "      <td>255</td>\n",
       "      <td>133</td>\n",
       "      <td>140</td>\n",
       "      <td>110</td>\n",
       "      <td>255</td>\n",
       "      <td>109</td>\n",
       "      <td>113</td>\n",
       "      <td>...</td>\n",
       "      <td>123.0</td>\n",
       "      <td>255.0</td>\n",
       "      <td>111.0</td>\n",
       "      <td>117.0</td>\n",
       "      <td>106.0</td>\n",
       "      <td>255.0</td>\n",
       "      <td>78.0</td>\n",
       "      <td>87.0</td>\n",
       "      <td>77.0</td>\n",
       "      <td>255.0</td>\n",
       "    </tr>\n",
       "    <tr>\n",
       "      <th>14</th>\n",
       "      <td>179</td>\n",
       "      <td>165</td>\n",
       "      <td>165</td>\n",
       "      <td>255</td>\n",
       "      <td>179</td>\n",
       "      <td>165</td>\n",
       "      <td>165</td>\n",
       "      <td>255</td>\n",
       "      <td>180</td>\n",
       "      <td>166</td>\n",
       "      <td>...</td>\n",
       "      <td>179.0</td>\n",
       "      <td>255.0</td>\n",
       "      <td>106.0</td>\n",
       "      <td>132.0</td>\n",
       "      <td>158.0</td>\n",
       "      <td>255.0</td>\n",
       "      <td>119.0</td>\n",
       "      <td>123.0</td>\n",
       "      <td>139.0</td>\n",
       "      <td>255.0</td>\n",
       "    </tr>\n",
       "    <tr>\n",
       "      <th>15</th>\n",
       "      <td>243</td>\n",
       "      <td>238</td>\n",
       "      <td>234</td>\n",
       "      <td>255</td>\n",
       "      <td>244</td>\n",
       "      <td>239</td>\n",
       "      <td>235</td>\n",
       "      <td>255</td>\n",
       "      <td>244</td>\n",
       "      <td>239</td>\n",
       "      <td>...</td>\n",
       "      <td>37.0</td>\n",
       "      <td>255.0</td>\n",
       "      <td>35.0</td>\n",
       "      <td>42.0</td>\n",
       "      <td>47.0</td>\n",
       "      <td>255.0</td>\n",
       "      <td>54.0</td>\n",
       "      <td>63.0</td>\n",
       "      <td>68.0</td>\n",
       "      <td>255.0</td>\n",
       "    </tr>\n",
       "    <tr>\n",
       "      <th>16</th>\n",
       "      <td>23</td>\n",
       "      <td>11</td>\n",
       "      <td>15</td>\n",
       "      <td>22</td>\n",
       "      <td>10</td>\n",
       "      <td>14</td>\n",
       "      <td>20</td>\n",
       "      <td>9</td>\n",
       "      <td>13</td>\n",
       "      <td>18</td>\n",
       "      <td>...</td>\n",
       "      <td>NaN</td>\n",
       "      <td>NaN</td>\n",
       "      <td>NaN</td>\n",
       "      <td>NaN</td>\n",
       "      <td>NaN</td>\n",
       "      <td>NaN</td>\n",
       "      <td>NaN</td>\n",
       "      <td>NaN</td>\n",
       "      <td>NaN</td>\n",
       "      <td>NaN</td>\n",
       "    </tr>\n",
       "    <tr>\n",
       "      <th>17</th>\n",
       "      <td>87</td>\n",
       "      <td>61</td>\n",
       "      <td>60</td>\n",
       "      <td>76</td>\n",
       "      <td>52</td>\n",
       "      <td>52</td>\n",
       "      <td>63</td>\n",
       "      <td>41</td>\n",
       "      <td>43</td>\n",
       "      <td>77</td>\n",
       "      <td>...</td>\n",
       "      <td>NaN</td>\n",
       "      <td>NaN</td>\n",
       "      <td>NaN</td>\n",
       "      <td>NaN</td>\n",
       "      <td>NaN</td>\n",
       "      <td>NaN</td>\n",
       "      <td>NaN</td>\n",
       "      <td>NaN</td>\n",
       "      <td>NaN</td>\n",
       "      <td>NaN</td>\n",
       "    </tr>\n",
       "  </tbody>\n",
       "</table>\n",
       "<p>18 rows × 22500 columns</p>\n",
       "</div>"
      ],
      "text/plain": [
       "    0      1      2      3      4      5      6      7      8      9      \\\n",
       "0     192    185    131    193    186    132    194    187    135    197   \n",
       "1      37     52     11     35     48     18     31     42     25     46   \n",
       "2     121    137    126    128    144    133    133    149    138    131   \n",
       "3     165    192    221    165    192    221    165    192    221    165   \n",
       "4     255    255    255    255    255    255    255    255    255    255   \n",
       "5     154    156    153    161    161    159    159    159    157    156   \n",
       "6     255    255    255    255    255    255    255    255    255    255   \n",
       "7     161    163    116    163    165    118    151    153    106    144   \n",
       "8      98    129     69     93    125     62     96    128     61     99   \n",
       "9     233    158    103    233    156    102    231    154     98    231   \n",
       "10    245    235    226    245    232    223    247    233    222    249   \n",
       "11     15     25     34     15     25     34     15     25     34     15   \n",
       "12      5      5      5      5      5      5      6      6      6      6   \n",
       "13    146    153    119    255    133    140    110    255    109    113   \n",
       "14    179    165    165    255    179    165    165    255    180    166   \n",
       "15    243    238    234    255    244    239    235    255    244    239   \n",
       "16     23     11     15     22     10     14     20      9     13     18   \n",
       "17     87     61     60     76     52     52     63     41     43     77   \n",
       "\n",
       "    ...    22490  22491  22492  22493  22494  22495  22496  22497  22498  \\\n",
       "0   ...      NaN    NaN    NaN    NaN    NaN    NaN    NaN    NaN    NaN   \n",
       "1   ...      NaN    NaN    NaN    NaN    NaN    NaN    NaN    NaN    NaN   \n",
       "2   ...      NaN    NaN    NaN    NaN    NaN    NaN    NaN    NaN    NaN   \n",
       "3   ...      NaN    NaN    NaN    NaN    NaN    NaN    NaN    NaN    NaN   \n",
       "4   ...      NaN    NaN    NaN    NaN    NaN    NaN    NaN    NaN    NaN   \n",
       "5   ...      NaN    NaN    NaN    NaN    NaN    NaN    NaN    NaN    NaN   \n",
       "6   ...      NaN    NaN    NaN    NaN    NaN    NaN    NaN    NaN    NaN   \n",
       "7   ...      NaN    NaN    NaN    NaN    NaN    NaN    NaN    NaN    NaN   \n",
       "8   ...      NaN    NaN    NaN    NaN    NaN    NaN    NaN    NaN    NaN   \n",
       "9   ...      NaN    NaN    NaN    NaN    NaN    NaN    NaN    NaN    NaN   \n",
       "10  ...      NaN    NaN    NaN    NaN    NaN    NaN    NaN    NaN    NaN   \n",
       "11  ...      NaN    NaN    NaN    NaN    NaN    NaN    NaN    NaN    NaN   \n",
       "12  ...      NaN    NaN    NaN    NaN    NaN    NaN    NaN    NaN    NaN   \n",
       "13  ...    123.0  255.0  111.0  117.0  106.0  255.0   78.0   87.0   77.0   \n",
       "14  ...    179.0  255.0  106.0  132.0  158.0  255.0  119.0  123.0  139.0   \n",
       "15  ...     37.0  255.0   35.0   42.0   47.0  255.0   54.0   63.0   68.0   \n",
       "16  ...      NaN    NaN    NaN    NaN    NaN    NaN    NaN    NaN    NaN   \n",
       "17  ...      NaN    NaN    NaN    NaN    NaN    NaN    NaN    NaN    NaN   \n",
       "\n",
       "    22499  \n",
       "0     NaN  \n",
       "1     NaN  \n",
       "2     NaN  \n",
       "3     NaN  \n",
       "4     NaN  \n",
       "5     NaN  \n",
       "6     NaN  \n",
       "7     NaN  \n",
       "8     NaN  \n",
       "9     NaN  \n",
       "10    NaN  \n",
       "11    NaN  \n",
       "12    NaN  \n",
       "13  255.0  \n",
       "14  255.0  \n",
       "15  255.0  \n",
       "16    NaN  \n",
       "17    NaN  \n",
       "\n",
       "[18 rows x 22500 columns]"
      ]
     },
     "execution_count": 7,
     "metadata": {},
     "output_type": "execute_result"
    }
   ],
   "source": [
    "X_train"
   ]
  },
  {
   "cell_type": "code",
   "execution_count": 5,
   "metadata": {
    "ExecuteTime": {
     "end_time": "2019-04-05T02:35:49.579639Z",
     "start_time": "2019-04-05T02:35:49.437153Z"
    }
   },
   "outputs": [],
   "source": [
    "def normalise(X_train):\n",
    "    mean = np.array(X_train.mean(axis=1))\n",
    "    return (X_train.T - mean).T, mean\n",
    "X_train, Mean_face = normalise(X_train)"
   ]
  },
  {
   "cell_type": "code",
   "execution_count": 6,
   "metadata": {
    "ExecuteTime": {
     "end_time": "2019-04-05T02:35:49.663884Z",
     "start_time": "2019-04-05T02:35:49.582646Z"
    }
   },
   "outputs": [
    {
     "data": {
      "text/plain": [
       "(18, 18)"
      ]
     },
     "execution_count": 6,
     "metadata": {},
     "output_type": "execute_result"
    }
   ],
   "source": [
    "def find_covariance_matrix(X_train):\n",
    "    return np.cov(X_train)\n",
    "covariance_matrix = find_covariance_matrix(X_train)\n",
    "covariance_matrix.shape"
   ]
  },
  {
   "cell_type": "code",
   "execution_count": 7,
   "metadata": {
    "ExecuteTime": {
     "end_time": "2019-04-05T02:35:50.040732Z",
     "start_time": "2019-04-05T02:35:49.667228Z"
    }
   },
   "outputs": [],
   "source": [
    "# u,s,v = np.linalg.svd(covariance_matrix)\n",
    "# eig_vecs = u\n",
    "eig_vals, eig_vecs = np.linalg.eig(covariance_matrix)"
   ]
  },
  {
   "cell_type": "code",
   "execution_count": 8,
   "metadata": {
    "ExecuteTime": {
     "end_time": "2019-04-05T02:35:50.057257Z",
     "start_time": "2019-04-05T02:35:50.048502Z"
    }
   },
   "outputs": [
    {
     "name": "stdout",
     "output_type": "stream",
     "text": [
      "\n",
      "Eigenvalues \n",
      "[0.53804626 0.17346451 0.11759955 0.0595469  0.05388421 0.04074329\n",
      " 0.03443736 0.00627291 0.0112987  0.01192306 0.01292699 0.02688296\n",
      " 0.02621228 0.01659181 0.02242714 0.02125568 0.01881874 0.01941637]\n"
     ]
    }
   ],
   "source": [
    "\n",
    "print('\\nEigenvalues \\n%s' %eig_vals)"
   ]
  },
  {
   "cell_type": "code",
   "execution_count": 9,
   "metadata": {
    "ExecuteTime": {
     "end_time": "2019-04-05T02:35:50.201287Z",
     "start_time": "2019-04-05T02:35:50.061338Z"
    }
   },
   "outputs": [],
   "source": [
    "def choose_best_eigvec(eig_vecs, max_vecs):\n",
    "    max_vecs = 10\n",
    "    arinds = eig_vals.argsort()\n",
    "    reduced_vecs = pd.DataFrame()\n",
    "    index = 0\n",
    "    for i in reversed(arinds):\n",
    "        reduced_vecs.insert(index,index, eig_vecs[:,i])\n",
    "        index += 1\n",
    "\n",
    "        if max_vecs == index: \n",
    "            break\n",
    "            \n",
    "    return reduced_vecs\n",
    "    \n",
    "reduced_vecs = choose_best_eigvec(eig_vecs, 8)"
   ]
  },
  {
   "cell_type": "code",
   "execution_count": 10,
   "metadata": {
    "ExecuteTime": {
     "end_time": "2019-04-05T02:35:50.233071Z",
     "start_time": "2019-04-05T02:35:50.204159Z"
    }
   },
   "outputs": [],
   "source": [
    "# reduced_vecs"
   ]
  },
  {
   "cell_type": "markdown",
   "metadata": {},
   "source": [
    "For generating the eigenfaces project the each mean aligned face to the generated\n",
    "feature vector."
   ]
  },
  {
   "cell_type": "code",
   "execution_count": 11,
   "metadata": {
    "ExecuteTime": {
     "end_time": "2019-04-05T02:35:50.394110Z",
     "start_time": "2019-04-05T02:35:50.237516Z"
    }
   },
   "outputs": [
    {
     "data": {
      "text/html": [
       "<div>\n",
       "<style scoped>\n",
       "    .dataframe tbody tr th:only-of-type {\n",
       "        vertical-align: middle;\n",
       "    }\n",
       "\n",
       "    .dataframe tbody tr th {\n",
       "        vertical-align: top;\n",
       "    }\n",
       "\n",
       "    .dataframe thead th {\n",
       "        text-align: right;\n",
       "    }\n",
       "</style>\n",
       "<table border=\"1\" class=\"dataframe\">\n",
       "  <thead>\n",
       "    <tr style=\"text-align: right;\">\n",
       "      <th></th>\n",
       "      <th>0</th>\n",
       "      <th>1</th>\n",
       "      <th>2</th>\n",
       "      <th>3</th>\n",
       "      <th>4</th>\n",
       "      <th>5</th>\n",
       "      <th>6</th>\n",
       "      <th>7</th>\n",
       "      <th>8</th>\n",
       "      <th>9</th>\n",
       "      <th>...</th>\n",
       "      <th>5615</th>\n",
       "      <th>5616</th>\n",
       "      <th>5617</th>\n",
       "      <th>5618</th>\n",
       "      <th>5619</th>\n",
       "      <th>5620</th>\n",
       "      <th>5621</th>\n",
       "      <th>5622</th>\n",
       "      <th>5623</th>\n",
       "      <th>5624</th>\n",
       "    </tr>\n",
       "  </thead>\n",
       "  <tbody>\n",
       "    <tr>\n",
       "      <th>0</th>\n",
       "      <td>-0.698456</td>\n",
       "      <td>-0.681527</td>\n",
       "      <td>-0.630886</td>\n",
       "      <td>-0.600034</td>\n",
       "      <td>-0.622622</td>\n",
       "      <td>-0.623917</td>\n",
       "      <td>-0.632022</td>\n",
       "      <td>-0.686867</td>\n",
       "      <td>-0.731915</td>\n",
       "      <td>-0.708598</td>\n",
       "      <td>...</td>\n",
       "      <td>0.147741</td>\n",
       "      <td>0.097630</td>\n",
       "      <td>0.015373</td>\n",
       "      <td>-0.085019</td>\n",
       "      <td>-0.051620</td>\n",
       "      <td>-0.039303</td>\n",
       "      <td>-0.096870</td>\n",
       "      <td>-0.120253</td>\n",
       "      <td>-0.087675</td>\n",
       "      <td>-0.049965</td>\n",
       "    </tr>\n",
       "    <tr>\n",
       "      <th>1</th>\n",
       "      <td>-0.127659</td>\n",
       "      <td>-0.119428</td>\n",
       "      <td>-0.114025</td>\n",
       "      <td>-0.098890</td>\n",
       "      <td>-0.263401</td>\n",
       "      <td>-0.259330</td>\n",
       "      <td>-0.238313</td>\n",
       "      <td>-0.297036</td>\n",
       "      <td>-0.301100</td>\n",
       "      <td>-0.332792</td>\n",
       "      <td>...</td>\n",
       "      <td>0.908112</td>\n",
       "      <td>0.893845</td>\n",
       "      <td>0.814664</td>\n",
       "      <td>0.671413</td>\n",
       "      <td>0.732837</td>\n",
       "      <td>0.809739</td>\n",
       "      <td>0.841421</td>\n",
       "      <td>0.769948</td>\n",
       "      <td>0.728071</td>\n",
       "      <td>0.684881</td>\n",
       "    </tr>\n",
       "    <tr>\n",
       "      <th>2</th>\n",
       "      <td>0.090848</td>\n",
       "      <td>0.104601</td>\n",
       "      <td>0.120722</td>\n",
       "      <td>0.155827</td>\n",
       "      <td>0.351653</td>\n",
       "      <td>0.343269</td>\n",
       "      <td>0.308543</td>\n",
       "      <td>0.376510</td>\n",
       "      <td>0.426835</td>\n",
       "      <td>0.403309</td>\n",
       "      <td>...</td>\n",
       "      <td>-0.112809</td>\n",
       "      <td>-0.130471</td>\n",
       "      <td>-0.115928</td>\n",
       "      <td>-0.129626</td>\n",
       "      <td>-0.209212</td>\n",
       "      <td>-0.262139</td>\n",
       "      <td>-0.291991</td>\n",
       "      <td>-0.250122</td>\n",
       "      <td>-0.222832</td>\n",
       "      <td>-0.204354</td>\n",
       "    </tr>\n",
       "    <tr>\n",
       "      <th>3</th>\n",
       "      <td>-0.196889</td>\n",
       "      <td>-0.185716</td>\n",
       "      <td>-0.174288</td>\n",
       "      <td>-0.156657</td>\n",
       "      <td>-0.285896</td>\n",
       "      <td>-0.285026</td>\n",
       "      <td>-0.268705</td>\n",
       "      <td>-0.306539</td>\n",
       "      <td>-0.320893</td>\n",
       "      <td>-0.304596</td>\n",
       "      <td>...</td>\n",
       "      <td>-0.019068</td>\n",
       "      <td>-0.085092</td>\n",
       "      <td>-0.088445</td>\n",
       "      <td>-0.038387</td>\n",
       "      <td>-0.134763</td>\n",
       "      <td>-0.200644</td>\n",
       "      <td>-0.218149</td>\n",
       "      <td>-0.235431</td>\n",
       "      <td>-0.228886</td>\n",
       "      <td>-0.200586</td>\n",
       "    </tr>\n",
       "    <tr>\n",
       "      <th>4</th>\n",
       "      <td>-0.286653</td>\n",
       "      <td>-0.328252</td>\n",
       "      <td>-0.357693</td>\n",
       "      <td>-0.300425</td>\n",
       "      <td>-0.074167</td>\n",
       "      <td>0.018843</td>\n",
       "      <td>0.037986</td>\n",
       "      <td>0.020924</td>\n",
       "      <td>-0.012294</td>\n",
       "      <td>-0.020079</td>\n",
       "      <td>...</td>\n",
       "      <td>0.522152</td>\n",
       "      <td>0.519324</td>\n",
       "      <td>0.491098</td>\n",
       "      <td>0.441617</td>\n",
       "      <td>0.446634</td>\n",
       "      <td>0.460483</td>\n",
       "      <td>0.407136</td>\n",
       "      <td>0.405660</td>\n",
       "      <td>0.434269</td>\n",
       "      <td>0.446055</td>\n",
       "    </tr>\n",
       "    <tr>\n",
       "      <th>5</th>\n",
       "      <td>-0.102261</td>\n",
       "      <td>-0.104962</td>\n",
       "      <td>-0.121793</td>\n",
       "      <td>-0.117127</td>\n",
       "      <td>-0.041532</td>\n",
       "      <td>-0.070464</td>\n",
       "      <td>-0.104652</td>\n",
       "      <td>-0.059435</td>\n",
       "      <td>-0.037478</td>\n",
       "      <td>-0.021384</td>\n",
       "      <td>...</td>\n",
       "      <td>-0.109832</td>\n",
       "      <td>-0.129121</td>\n",
       "      <td>-0.096798</td>\n",
       "      <td>-0.026168</td>\n",
       "      <td>-0.024179</td>\n",
       "      <td>-0.034475</td>\n",
       "      <td>-0.020875</td>\n",
       "      <td>0.011550</td>\n",
       "      <td>0.029579</td>\n",
       "      <td>0.056679</td>\n",
       "    </tr>\n",
       "    <tr>\n",
       "      <th>6</th>\n",
       "      <td>-0.310549</td>\n",
       "      <td>-0.326618</td>\n",
       "      <td>-0.378092</td>\n",
       "      <td>-0.374266</td>\n",
       "      <td>-0.214399</td>\n",
       "      <td>-0.188540</td>\n",
       "      <td>-0.190123</td>\n",
       "      <td>-0.112453</td>\n",
       "      <td>-0.055255</td>\n",
       "      <td>-0.085360</td>\n",
       "      <td>...</td>\n",
       "      <td>-0.178842</td>\n",
       "      <td>-0.260048</td>\n",
       "      <td>-0.313365</td>\n",
       "      <td>-0.406564</td>\n",
       "      <td>-0.398159</td>\n",
       "      <td>-0.381370</td>\n",
       "      <td>-0.329242</td>\n",
       "      <td>-0.304115</td>\n",
       "      <td>-0.320716</td>\n",
       "      <td>-0.356156</td>\n",
       "    </tr>\n",
       "    <tr>\n",
       "      <th>7</th>\n",
       "      <td>-0.066651</td>\n",
       "      <td>-0.098276</td>\n",
       "      <td>-0.145286</td>\n",
       "      <td>-0.175548</td>\n",
       "      <td>-0.121688</td>\n",
       "      <td>-0.125580</td>\n",
       "      <td>-0.120926</td>\n",
       "      <td>-0.056771</td>\n",
       "      <td>-0.050548</td>\n",
       "      <td>-0.046533</td>\n",
       "      <td>...</td>\n",
       "      <td>0.041893</td>\n",
       "      <td>-0.011548</td>\n",
       "      <td>-0.048569</td>\n",
       "      <td>-0.116773</td>\n",
       "      <td>-0.179731</td>\n",
       "      <td>-0.185298</td>\n",
       "      <td>-0.187606</td>\n",
       "      <td>-0.166516</td>\n",
       "      <td>-0.182762</td>\n",
       "      <td>-0.233938</td>\n",
       "    </tr>\n",
       "    <tr>\n",
       "      <th>8</th>\n",
       "      <td>-0.041837</td>\n",
       "      <td>-0.052416</td>\n",
       "      <td>-0.078197</td>\n",
       "      <td>-0.111020</td>\n",
       "      <td>-0.124933</td>\n",
       "      <td>-0.097735</td>\n",
       "      <td>-0.086720</td>\n",
       "      <td>-0.108353</td>\n",
       "      <td>-0.109965</td>\n",
       "      <td>-0.108576</td>\n",
       "      <td>...</td>\n",
       "      <td>0.160111</td>\n",
       "      <td>0.033006</td>\n",
       "      <td>0.071244</td>\n",
       "      <td>0.105013</td>\n",
       "      <td>0.063500</td>\n",
       "      <td>0.052077</td>\n",
       "      <td>0.052824</td>\n",
       "      <td>0.089001</td>\n",
       "      <td>0.065354</td>\n",
       "      <td>0.009311</td>\n",
       "    </tr>\n",
       "    <tr>\n",
       "      <th>9</th>\n",
       "      <td>0.162640</td>\n",
       "      <td>0.176336</td>\n",
       "      <td>0.164305</td>\n",
       "      <td>0.107138</td>\n",
       "      <td>0.075446</td>\n",
       "      <td>0.023977</td>\n",
       "      <td>-0.005084</td>\n",
       "      <td>0.035748</td>\n",
       "      <td>0.056957</td>\n",
       "      <td>0.024979</td>\n",
       "      <td>...</td>\n",
       "      <td>0.201514</td>\n",
       "      <td>0.187134</td>\n",
       "      <td>0.102645</td>\n",
       "      <td>-0.068629</td>\n",
       "      <td>-0.040108</td>\n",
       "      <td>0.057019</td>\n",
       "      <td>0.102834</td>\n",
       "      <td>0.055886</td>\n",
       "      <td>0.022107</td>\n",
       "      <td>0.016355</td>\n",
       "    </tr>\n",
       "  </tbody>\n",
       "</table>\n",
       "<p>10 rows × 5625 columns</p>\n",
       "</div>"
      ],
      "text/plain": [
       "       0         1         2         3         4         5         6     \\\n",
       "0 -0.698456 -0.681527 -0.630886 -0.600034 -0.622622 -0.623917 -0.632022   \n",
       "1 -0.127659 -0.119428 -0.114025 -0.098890 -0.263401 -0.259330 -0.238313   \n",
       "2  0.090848  0.104601  0.120722  0.155827  0.351653  0.343269  0.308543   \n",
       "3 -0.196889 -0.185716 -0.174288 -0.156657 -0.285896 -0.285026 -0.268705   \n",
       "4 -0.286653 -0.328252 -0.357693 -0.300425 -0.074167  0.018843  0.037986   \n",
       "5 -0.102261 -0.104962 -0.121793 -0.117127 -0.041532 -0.070464 -0.104652   \n",
       "6 -0.310549 -0.326618 -0.378092 -0.374266 -0.214399 -0.188540 -0.190123   \n",
       "7 -0.066651 -0.098276 -0.145286 -0.175548 -0.121688 -0.125580 -0.120926   \n",
       "8 -0.041837 -0.052416 -0.078197 -0.111020 -0.124933 -0.097735 -0.086720   \n",
       "9  0.162640  0.176336  0.164305  0.107138  0.075446  0.023977 -0.005084   \n",
       "\n",
       "       7         8         9       ...         5615      5616      5617  \\\n",
       "0 -0.686867 -0.731915 -0.708598    ...     0.147741  0.097630  0.015373   \n",
       "1 -0.297036 -0.301100 -0.332792    ...     0.908112  0.893845  0.814664   \n",
       "2  0.376510  0.426835  0.403309    ...    -0.112809 -0.130471 -0.115928   \n",
       "3 -0.306539 -0.320893 -0.304596    ...    -0.019068 -0.085092 -0.088445   \n",
       "4  0.020924 -0.012294 -0.020079    ...     0.522152  0.519324  0.491098   \n",
       "5 -0.059435 -0.037478 -0.021384    ...    -0.109832 -0.129121 -0.096798   \n",
       "6 -0.112453 -0.055255 -0.085360    ...    -0.178842 -0.260048 -0.313365   \n",
       "7 -0.056771 -0.050548 -0.046533    ...     0.041893 -0.011548 -0.048569   \n",
       "8 -0.108353 -0.109965 -0.108576    ...     0.160111  0.033006  0.071244   \n",
       "9  0.035748  0.056957  0.024979    ...     0.201514  0.187134  0.102645   \n",
       "\n",
       "       5618      5619      5620      5621      5622      5623      5624  \n",
       "0 -0.085019 -0.051620 -0.039303 -0.096870 -0.120253 -0.087675 -0.049965  \n",
       "1  0.671413  0.732837  0.809739  0.841421  0.769948  0.728071  0.684881  \n",
       "2 -0.129626 -0.209212 -0.262139 -0.291991 -0.250122 -0.222832 -0.204354  \n",
       "3 -0.038387 -0.134763 -0.200644 -0.218149 -0.235431 -0.228886 -0.200586  \n",
       "4  0.441617  0.446634  0.460483  0.407136  0.405660  0.434269  0.446055  \n",
       "5 -0.026168 -0.024179 -0.034475 -0.020875  0.011550  0.029579  0.056679  \n",
       "6 -0.406564 -0.398159 -0.381370 -0.329242 -0.304115 -0.320716 -0.356156  \n",
       "7 -0.116773 -0.179731 -0.185298 -0.187606 -0.166516 -0.182762 -0.233938  \n",
       "8  0.105013  0.063500  0.052077  0.052824  0.089001  0.065354  0.009311  \n",
       "9 -0.068629 -0.040108  0.057019  0.102834  0.055886  0.022107  0.016355  \n",
       "\n",
       "[10 rows x 5625 columns]"
      ]
     },
     "execution_count": 11,
     "metadata": {},
     "output_type": "execute_result"
    }
   ],
   "source": [
    "Eigenfaces = reduced_vecs.T @ X_train\n",
    "Eigenfaces"
   ]
  },
  {
   "cell_type": "markdown",
   "metadata": {},
   "source": [
    "Generate Signature of Each Face:\n",
    "For generating signature of each face (), project each mean aligned face to the\n",
    "eigenfaces."
   ]
  },
  {
   "cell_type": "code",
   "execution_count": 12,
   "metadata": {
    "ExecuteTime": {
     "end_time": "2019-04-05T02:35:50.507166Z",
     "start_time": "2019-04-05T02:35:50.397759Z"
    }
   },
   "outputs": [
    {
     "data": {
      "text/html": [
       "<div>\n",
       "<style scoped>\n",
       "    .dataframe tbody tr th:only-of-type {\n",
       "        vertical-align: middle;\n",
       "    }\n",
       "\n",
       "    .dataframe tbody tr th {\n",
       "        vertical-align: top;\n",
       "    }\n",
       "\n",
       "    .dataframe thead th {\n",
       "        text-align: right;\n",
       "    }\n",
       "</style>\n",
       "<table border=\"1\" class=\"dataframe\">\n",
       "  <thead>\n",
       "    <tr style=\"text-align: right;\">\n",
       "      <th></th>\n",
       "      <th>0</th>\n",
       "      <th>1</th>\n",
       "      <th>2</th>\n",
       "      <th>3</th>\n",
       "      <th>4</th>\n",
       "      <th>5</th>\n",
       "      <th>6</th>\n",
       "      <th>7</th>\n",
       "      <th>8</th>\n",
       "      <th>9</th>\n",
       "      <th>10</th>\n",
       "      <th>11</th>\n",
       "      <th>12</th>\n",
       "      <th>13</th>\n",
       "      <th>14</th>\n",
       "      <th>15</th>\n",
       "      <th>16</th>\n",
       "      <th>17</th>\n",
       "    </tr>\n",
       "  </thead>\n",
       "  <tbody>\n",
       "    <tr>\n",
       "      <th>0</th>\n",
       "      <td>-1169.426029</td>\n",
       "      <td>-61.329306</td>\n",
       "      <td>-871.346781</td>\n",
       "      <td>-1493.048647</td>\n",
       "      <td>-1175.579515</td>\n",
       "      <td>-308.791641</td>\n",
       "      <td>46.491959</td>\n",
       "      <td>259.685722</td>\n",
       "      <td>-107.299581</td>\n",
       "      <td>725.663628</td>\n",
       "      <td>-926.229902</td>\n",
       "      <td>-220.803696</td>\n",
       "      <td>-24.011501</td>\n",
       "      <td>-906.797866</td>\n",
       "      <td>-571.202623</td>\n",
       "      <td>-346.832372</td>\n",
       "      <td>-474.293741</td>\n",
       "      <td>-557.383491</td>\n",
       "    </tr>\n",
       "    <tr>\n",
       "      <th>1</th>\n",
       "      <td>-49.083263</td>\n",
       "      <td>75.337915</td>\n",
       "      <td>169.508024</td>\n",
       "      <td>-193.120101</td>\n",
       "      <td>-131.720787</td>\n",
       "      <td>163.960679</td>\n",
       "      <td>120.566731</td>\n",
       "      <td>67.970005</td>\n",
       "      <td>-327.473923</td>\n",
       "      <td>225.201943</td>\n",
       "      <td>249.412112</td>\n",
       "      <td>395.264275</td>\n",
       "      <td>175.244906</td>\n",
       "      <td>-137.973304</td>\n",
       "      <td>-55.257047</td>\n",
       "      <td>534.010514</td>\n",
       "      <td>-15.808649</td>\n",
       "      <td>315.609887</td>\n",
       "    </tr>\n",
       "    <tr>\n",
       "      <th>2</th>\n",
       "      <td>-20.956255</td>\n",
       "      <td>293.910984</td>\n",
       "      <td>89.608012</td>\n",
       "      <td>-15.761993</td>\n",
       "      <td>-180.450321</td>\n",
       "      <td>3.189886</td>\n",
       "      <td>85.062853</td>\n",
       "      <td>233.426287</td>\n",
       "      <td>291.577461</td>\n",
       "      <td>203.855463</td>\n",
       "      <td>-12.299054</td>\n",
       "      <td>66.133515</td>\n",
       "      <td>82.860866</td>\n",
       "      <td>177.025973</td>\n",
       "      <td>212.846973</td>\n",
       "      <td>-101.603714</td>\n",
       "      <td>146.355119</td>\n",
       "      <td>40.938945</td>\n",
       "    </tr>\n",
       "    <tr>\n",
       "      <th>3</th>\n",
       "      <td>-51.775808</td>\n",
       "      <td>-27.808347</td>\n",
       "      <td>37.578132</td>\n",
       "      <td>63.411359</td>\n",
       "      <td>2.383544</td>\n",
       "      <td>-29.368176</td>\n",
       "      <td>-38.750362</td>\n",
       "      <td>-9.183117</td>\n",
       "      <td>-88.101335</td>\n",
       "      <td>128.825509</td>\n",
       "      <td>-107.279099</td>\n",
       "      <td>-137.764277</td>\n",
       "      <td>-41.092323</td>\n",
       "      <td>95.412616</td>\n",
       "      <td>94.305766</td>\n",
       "      <td>152.751073</td>\n",
       "      <td>13.758220</td>\n",
       "      <td>-52.513783</td>\n",
       "    </tr>\n",
       "    <tr>\n",
       "      <th>4</th>\n",
       "      <td>-35.216189</td>\n",
       "      <td>-154.843935</td>\n",
       "      <td>98.673004</td>\n",
       "      <td>-82.954099</td>\n",
       "      <td>-11.760813</td>\n",
       "      <td>-63.065483</td>\n",
       "      <td>-20.569347</td>\n",
       "      <td>-62.532175</td>\n",
       "      <td>162.436815</td>\n",
       "      <td>-22.100091</td>\n",
       "      <td>26.443588</td>\n",
       "      <td>-1.235460</td>\n",
       "      <td>75.399869</td>\n",
       "      <td>14.032496</td>\n",
       "      <td>47.788510</td>\n",
       "      <td>65.217386</td>\n",
       "      <td>-39.418870</td>\n",
       "      <td>2.185315</td>\n",
       "    </tr>\n",
       "    <tr>\n",
       "      <th>5</th>\n",
       "      <td>-99.903380</td>\n",
       "      <td>-30.366004</td>\n",
       "      <td>65.553218</td>\n",
       "      <td>12.363183</td>\n",
       "      <td>9.432453</td>\n",
       "      <td>107.804449</td>\n",
       "      <td>27.031280</td>\n",
       "      <td>26.935682</td>\n",
       "      <td>41.836127</td>\n",
       "      <td>-32.585093</td>\n",
       "      <td>-14.971070</td>\n",
       "      <td>37.444181</td>\n",
       "      <td>-116.090348</td>\n",
       "      <td>6.916207</td>\n",
       "      <td>-44.214689</td>\n",
       "      <td>17.197054</td>\n",
       "      <td>47.000350</td>\n",
       "      <td>-39.530481</td>\n",
       "    </tr>\n",
       "    <tr>\n",
       "      <th>6</th>\n",
       "      <td>28.396080</td>\n",
       "      <td>15.927334</td>\n",
       "      <td>1.172139</td>\n",
       "      <td>12.846470</td>\n",
       "      <td>42.951304</td>\n",
       "      <td>0.943575</td>\n",
       "      <td>13.666583</td>\n",
       "      <td>4.342273</td>\n",
       "      <td>62.132267</td>\n",
       "      <td>34.440349</td>\n",
       "      <td>-53.492602</td>\n",
       "      <td>-55.269042</td>\n",
       "      <td>39.212408</td>\n",
       "      <td>-28.714399</td>\n",
       "      <td>-116.619146</td>\n",
       "      <td>41.506408</td>\n",
       "      <td>56.950628</td>\n",
       "      <td>48.389261</td>\n",
       "    </tr>\n",
       "    <tr>\n",
       "      <th>7</th>\n",
       "      <td>28.609154</td>\n",
       "      <td>-58.204094</td>\n",
       "      <td>-63.847949</td>\n",
       "      <td>-14.384443</td>\n",
       "      <td>59.257646</td>\n",
       "      <td>32.423281</td>\n",
       "      <td>-9.988048</td>\n",
       "      <td>14.910338</td>\n",
       "      <td>14.742771</td>\n",
       "      <td>61.576675</td>\n",
       "      <td>-17.369592</td>\n",
       "      <td>56.495137</td>\n",
       "      <td>2.031288</td>\n",
       "      <td>-0.527747</td>\n",
       "      <td>30.048292</td>\n",
       "      <td>-6.316661</td>\n",
       "      <td>27.046295</td>\n",
       "      <td>-17.398708</td>\n",
       "    </tr>\n",
       "    <tr>\n",
       "      <th>8</th>\n",
       "      <td>9.458023</td>\n",
       "      <td>41.693938</td>\n",
       "      <td>3.016681</td>\n",
       "      <td>-77.399596</td>\n",
       "      <td>48.297591</td>\n",
       "      <td>-34.255132</td>\n",
       "      <td>-10.317434</td>\n",
       "      <td>-19.646378</td>\n",
       "      <td>-2.541803</td>\n",
       "      <td>8.022567</td>\n",
       "      <td>16.925499</td>\n",
       "      <td>14.282045</td>\n",
       "      <td>-38.263358</td>\n",
       "      <td>76.656108</td>\n",
       "      <td>-39.154940</td>\n",
       "      <td>8.356604</td>\n",
       "      <td>-9.442375</td>\n",
       "      <td>-17.671097</td>\n",
       "    </tr>\n",
       "    <tr>\n",
       "      <th>9</th>\n",
       "      <td>-7.063838</td>\n",
       "      <td>-21.513069</td>\n",
       "      <td>53.669891</td>\n",
       "      <td>5.280066</td>\n",
       "      <td>3.607477</td>\n",
       "      <td>-17.345859</td>\n",
       "      <td>-16.165931</td>\n",
       "      <td>-24.721034</td>\n",
       "      <td>-22.049946</td>\n",
       "      <td>49.212746</td>\n",
       "      <td>-18.292222</td>\n",
       "      <td>15.234023</td>\n",
       "      <td>-23.155366</td>\n",
       "      <td>-3.314116</td>\n",
       "      <td>-8.046288</td>\n",
       "      <td>-63.910947</td>\n",
       "      <td>-0.686810</td>\n",
       "      <td>55.943490</td>\n",
       "    </tr>\n",
       "  </tbody>\n",
       "</table>\n",
       "</div>"
      ],
      "text/plain": [
       "            0           1           2            3            4           5   \\\n",
       "0 -1169.426029  -61.329306 -871.346781 -1493.048647 -1175.579515 -308.791641   \n",
       "1   -49.083263   75.337915  169.508024  -193.120101  -131.720787  163.960679   \n",
       "2   -20.956255  293.910984   89.608012   -15.761993  -180.450321    3.189886   \n",
       "3   -51.775808  -27.808347   37.578132    63.411359     2.383544  -29.368176   \n",
       "4   -35.216189 -154.843935   98.673004   -82.954099   -11.760813  -63.065483   \n",
       "5   -99.903380  -30.366004   65.553218    12.363183     9.432453  107.804449   \n",
       "6    28.396080   15.927334    1.172139    12.846470    42.951304    0.943575   \n",
       "7    28.609154  -58.204094  -63.847949   -14.384443    59.257646   32.423281   \n",
       "8     9.458023   41.693938    3.016681   -77.399596    48.297591  -34.255132   \n",
       "9    -7.063838  -21.513069   53.669891     5.280066     3.607477  -17.345859   \n",
       "\n",
       "           6           7           8           9           10          11  \\\n",
       "0   46.491959  259.685722 -107.299581  725.663628 -926.229902 -220.803696   \n",
       "1  120.566731   67.970005 -327.473923  225.201943  249.412112  395.264275   \n",
       "2   85.062853  233.426287  291.577461  203.855463  -12.299054   66.133515   \n",
       "3  -38.750362   -9.183117  -88.101335  128.825509 -107.279099 -137.764277   \n",
       "4  -20.569347  -62.532175  162.436815  -22.100091   26.443588   -1.235460   \n",
       "5   27.031280   26.935682   41.836127  -32.585093  -14.971070   37.444181   \n",
       "6   13.666583    4.342273   62.132267   34.440349  -53.492602  -55.269042   \n",
       "7   -9.988048   14.910338   14.742771   61.576675  -17.369592   56.495137   \n",
       "8  -10.317434  -19.646378   -2.541803    8.022567   16.925499   14.282045   \n",
       "9  -16.165931  -24.721034  -22.049946   49.212746  -18.292222   15.234023   \n",
       "\n",
       "           12          13          14          15          16          17  \n",
       "0  -24.011501 -906.797866 -571.202623 -346.832372 -474.293741 -557.383491  \n",
       "1  175.244906 -137.973304  -55.257047  534.010514  -15.808649  315.609887  \n",
       "2   82.860866  177.025973  212.846973 -101.603714  146.355119   40.938945  \n",
       "3  -41.092323   95.412616   94.305766  152.751073   13.758220  -52.513783  \n",
       "4   75.399869   14.032496   47.788510   65.217386  -39.418870    2.185315  \n",
       "5 -116.090348    6.916207  -44.214689   17.197054   47.000350  -39.530481  \n",
       "6   39.212408  -28.714399 -116.619146   41.506408   56.950628   48.389261  \n",
       "7    2.031288   -0.527747   30.048292   -6.316661   27.046295  -17.398708  \n",
       "8  -38.263358   76.656108  -39.154940    8.356604   -9.442375  -17.671097  \n",
       "9  -23.155366   -3.314116   -8.046288  -63.910947   -0.686810   55.943490  "
      ]
     },
     "execution_count": 12,
     "metadata": {},
     "output_type": "execute_result"
    }
   ],
   "source": [
    "Signature = Eigenfaces @ X_train.T\n",
    "Signature"
   ]
  },
  {
   "cell_type": "code",
   "execution_count": null,
   "metadata": {},
   "outputs": [],
   "source": []
  },
  {
   "cell_type": "markdown",
   "metadata": {},
   "source": [
    "# LDA"
   ]
  },
  {
   "cell_type": "code",
   "execution_count": 20,
   "metadata": {
    "ExecuteTime": {
     "end_time": "2019-04-05T02:41:32.460736Z",
     "start_time": "2019-04-05T02:41:32.456225Z"
    }
   },
   "outputs": [],
   "source": [
    "Mean_Projected_faces = np.array(Signature.mean(axis=1))"
   ]
  },
  {
   "cell_type": "code",
   "execution_count": 22,
   "metadata": {
    "ExecuteTime": {
     "end_time": "2019-04-05T02:41:39.716544Z",
     "start_time": "2019-04-05T02:41:39.709742Z"
    }
   },
   "outputs": [
    {
     "data": {
      "text/plain": [
       "(10,)"
      ]
     },
     "execution_count": 22,
     "metadata": {},
     "output_type": "execute_result"
    }
   ],
   "source": [
    "Mean_Projected_faces.shape"
   ]
  },
  {
   "cell_type": "code",
   "execution_count": 23,
   "metadata": {
    "ExecuteTime": {
     "end_time": "2019-04-05T02:42:50.039622Z",
     "start_time": "2019-04-05T02:42:50.024567Z"
    }
   },
   "outputs": [
    {
     "data": {
      "text/plain": [
       "(6, 10)"
      ]
     },
     "execution_count": 23,
     "metadata": {},
     "output_type": "execute_result"
    }
   ],
   "source": [
    "def find_mean_class(Signature):\n",
    "    mean_class = []\n",
    "    for i in range(int(Signature.shape[1]/3)):\n",
    "        mean_class.append(Signature.iloc[:,3*i:3*i+3].mean(axis=1))\n",
    "    return np.array(mean_class)\n",
    "mean_class = find_mean_class(Signature)\n",
    "mean_class.shape"
   ]
  },
  {
   "cell_type": "code",
   "execution_count": 28,
   "metadata": {
    "ExecuteTime": {
     "end_time": "2019-04-05T02:51:57.926039Z",
     "start_time": "2019-04-05T02:51:57.913100Z"
    }
   },
   "outputs": [
    {
     "data": {
      "text/html": [
       "<div>\n",
       "<style scoped>\n",
       "    .dataframe tbody tr th:only-of-type {\n",
       "        vertical-align: middle;\n",
       "    }\n",
       "\n",
       "    .dataframe tbody tr th {\n",
       "        vertical-align: top;\n",
       "    }\n",
       "\n",
       "    .dataframe thead th {\n",
       "        text-align: right;\n",
       "    }\n",
       "</style>\n",
       "<table border=\"1\" class=\"dataframe\">\n",
       "  <thead>\n",
       "    <tr style=\"text-align: right;\">\n",
       "      <th></th>\n",
       "      <th>0</th>\n",
       "      <th>1</th>\n",
       "      <th>2</th>\n",
       "    </tr>\n",
       "  </thead>\n",
       "  <tbody>\n",
       "    <tr>\n",
       "      <th>0</th>\n",
       "      <td>-1169.426029</td>\n",
       "      <td>-61.329306</td>\n",
       "      <td>-871.346781</td>\n",
       "    </tr>\n",
       "    <tr>\n",
       "      <th>1</th>\n",
       "      <td>-49.083263</td>\n",
       "      <td>75.337915</td>\n",
       "      <td>169.508024</td>\n",
       "    </tr>\n",
       "    <tr>\n",
       "      <th>2</th>\n",
       "      <td>-20.956255</td>\n",
       "      <td>293.910984</td>\n",
       "      <td>89.608012</td>\n",
       "    </tr>\n",
       "    <tr>\n",
       "      <th>3</th>\n",
       "      <td>-51.775808</td>\n",
       "      <td>-27.808347</td>\n",
       "      <td>37.578132</td>\n",
       "    </tr>\n",
       "    <tr>\n",
       "      <th>4</th>\n",
       "      <td>-35.216189</td>\n",
       "      <td>-154.843935</td>\n",
       "      <td>98.673004</td>\n",
       "    </tr>\n",
       "    <tr>\n",
       "      <th>5</th>\n",
       "      <td>-99.903380</td>\n",
       "      <td>-30.366004</td>\n",
       "      <td>65.553218</td>\n",
       "    </tr>\n",
       "    <tr>\n",
       "      <th>6</th>\n",
       "      <td>28.396080</td>\n",
       "      <td>15.927334</td>\n",
       "      <td>1.172139</td>\n",
       "    </tr>\n",
       "    <tr>\n",
       "      <th>7</th>\n",
       "      <td>28.609154</td>\n",
       "      <td>-58.204094</td>\n",
       "      <td>-63.847949</td>\n",
       "    </tr>\n",
       "    <tr>\n",
       "      <th>8</th>\n",
       "      <td>9.458023</td>\n",
       "      <td>41.693938</td>\n",
       "      <td>3.016681</td>\n",
       "    </tr>\n",
       "    <tr>\n",
       "      <th>9</th>\n",
       "      <td>-7.063838</td>\n",
       "      <td>-21.513069</td>\n",
       "      <td>53.669891</td>\n",
       "    </tr>\n",
       "  </tbody>\n",
       "</table>\n",
       "</div>"
      ],
      "text/plain": [
       "             0           1           2\n",
       "0 -1169.426029  -61.329306 -871.346781\n",
       "1   -49.083263   75.337915  169.508024\n",
       "2   -20.956255  293.910984   89.608012\n",
       "3   -51.775808  -27.808347   37.578132\n",
       "4   -35.216189 -154.843935   98.673004\n",
       "5   -99.903380  -30.366004   65.553218\n",
       "6    28.396080   15.927334    1.172139\n",
       "7    28.609154  -58.204094  -63.847949\n",
       "8     9.458023   41.693938    3.016681\n",
       "9    -7.063838  -21.513069   53.669891"
      ]
     },
     "execution_count": 28,
     "metadata": {},
     "output_type": "execute_result"
    }
   ],
   "source": [
    "Signature.iloc[:,0:3]"
   ]
  },
  {
   "cell_type": "code",
   "execution_count": 29,
   "metadata": {
    "ExecuteTime": {
     "end_time": "2019-04-05T02:52:50.471172Z",
     "start_time": "2019-04-05T02:52:50.421891Z"
    }
   },
   "outputs": [],
   "source": [
    "def find_Scatter_within_class(Signature):\n",
    "    Scatter_within_class = np.zeros((Signature.shape[0], Signature.shape[0]))\n",
    "    \n",
    "    for i in range(int(Signature.shape[1]/3)):\n",
    "        Scatter_within_class = Scatter_within_class + Signature.iloc[:, i*3:i*3+1] @ Signature.iloc[:,i*3:i*3+1].T\n",
    "        \n",
    "    return Scatter_within_class\n",
    "Scatter_within_class = find_Scatter_within_class(Signature)"
   ]
  },
  {
   "cell_type": "code",
   "execution_count": 32,
   "metadata": {
    "ExecuteTime": {
     "end_time": "2019-04-05T02:55:00.478043Z",
     "start_time": "2019-04-05T02:55:00.471056Z"
    }
   },
   "outputs": [
    {
     "data": {
      "text/plain": [
       "(10, 10)"
      ]
     },
     "execution_count": 32,
     "metadata": {},
     "output_type": "execute_result"
    }
   ],
   "source": [
    "Scatter_within_class.shape"
   ]
  },
  {
   "cell_type": "code",
   "execution_count": 37,
   "metadata": {
    "ExecuteTime": {
     "end_time": "2019-04-05T03:02:22.505734Z",
     "start_time": "2019-04-05T03:02:22.497621Z"
    }
   },
   "outputs": [],
   "source": [
    "def find_Scatter_between_class(mean_class, Mean_Projected_faces):\n",
    "    sb = np.zeros((mean_class.shape[1],mean_class.shape[1]))\n",
    "    \n",
    "    for i in range(mean_class.shape[0]):\n",
    "        mean_class[i,:] = mean_class[i,:] - Mean_Projected_faces\n",
    "        m = mean_class[i,:].reshape(mean_class.shape[1], 1)\n",
    "        sb = sb + (m @ mean_class[i,:].reshape(mean_class.shape[1], 1).T)\n",
    "    \n",
    "    return sb\n",
    "\n",
    "Scatter_between_class = find_Scatter_between_class(mean_class, Mean_Projected_faces)       "
   ]
  },
  {
   "cell_type": "code",
   "execution_count": 38,
   "metadata": {
    "ExecuteTime": {
     "end_time": "2019-04-05T03:02:30.756565Z",
     "start_time": "2019-04-05T03:02:30.749387Z"
    }
   },
   "outputs": [
    {
     "data": {
      "text/plain": [
       "(10, 10)"
      ]
     },
     "execution_count": 38,
     "metadata": {},
     "output_type": "execute_result"
    }
   ],
   "source": [
    "Scatter_between_class.shape"
   ]
  },
  {
   "cell_type": "code",
   "execution_count": 43,
   "metadata": {
    "ExecuteTime": {
     "end_time": "2019-04-05T03:05:24.755872Z",
     "start_time": "2019-04-05T03:05:24.750827Z"
    }
   },
   "outputs": [],
   "source": [
    "# Criterion_mat \n",
    "J = inv(Scatter_within_class) @ Scatter_between_class"
   ]
  },
  {
   "cell_type": "code",
   "execution_count": 44,
   "metadata": {
    "ExecuteTime": {
     "end_time": "2019-04-05T03:05:25.415248Z",
     "start_time": "2019-04-05T03:05:25.408483Z"
    }
   },
   "outputs": [
    {
     "data": {
      "text/plain": [
       "(10, 10)"
      ]
     },
     "execution_count": 44,
     "metadata": {},
     "output_type": "execute_result"
    }
   ],
   "source": [
    "J.shape"
   ]
  },
  {
   "cell_type": "code",
   "execution_count": 63,
   "metadata": {
    "ExecuteTime": {
     "end_time": "2019-04-05T03:14:43.386903Z",
     "start_time": "2019-04-05T03:14:43.382770Z"
    }
   },
   "outputs": [],
   "source": [
    "from scipy.linalg import eigh\n",
    "eig_vals, eig_vecs = eigh(J)"
   ]
  },
  {
   "cell_type": "code",
   "execution_count": 64,
   "metadata": {
    "ExecuteTime": {
     "end_time": "2019-04-05T03:14:44.243715Z",
     "start_time": "2019-04-05T03:14:44.236435Z"
    }
   },
   "outputs": [
    {
     "data": {
      "text/plain": [
       "array([-4.19133181e+17, -5.81396057e+16, -1.33909733e+16, -1.18691664e+16,\n",
       "       -6.34550471e+15, -1.53928596e+15,  1.88663086e+15,  9.52136045e+15,\n",
       "        2.07313850e+16,  6.02350518e+17])"
      ]
     },
     "execution_count": 64,
     "metadata": {},
     "output_type": "execute_result"
    }
   ],
   "source": [
    "eig_vals"
   ]
  },
  {
   "cell_type": "code",
   "execution_count": 65,
   "metadata": {
    "ExecuteTime": {
     "end_time": "2019-04-05T03:14:44.908813Z",
     "start_time": "2019-04-05T03:14:44.902344Z"
    }
   },
   "outputs": [
    {
     "data": {
      "text/plain": [
       "(10, 10)"
      ]
     },
     "execution_count": 65,
     "metadata": {},
     "output_type": "execute_result"
    }
   ],
   "source": [
    "eig_vecs.shape"
   ]
  },
  {
   "cell_type": "code",
   "execution_count": 67,
   "metadata": {
    "ExecuteTime": {
     "end_time": "2019-04-05T03:15:26.886817Z",
     "start_time": "2019-04-05T03:15:26.876366Z"
    }
   },
   "outputs": [
    {
     "data": {
      "text/plain": [
       "(10, 7)"
      ]
     },
     "execution_count": 67,
     "metadata": {},
     "output_type": "execute_result"
    }
   ],
   "source": [
    "w = eig_vecs[:, 3:]\n",
    "w.shape"
   ]
  },
  {
   "cell_type": "code",
   "execution_count": 68,
   "metadata": {
    "ExecuteTime": {
     "end_time": "2019-04-05T03:16:37.465538Z",
     "start_time": "2019-04-05T03:16:37.461581Z"
    }
   },
   "outputs": [],
   "source": [
    "# Fishers face (FF)\n",
    "FF = w.T @ Signature"
   ]
  },
  {
   "cell_type": "code",
   "execution_count": 69,
   "metadata": {
    "ExecuteTime": {
     "end_time": "2019-04-05T03:16:42.239233Z",
     "start_time": "2019-04-05T03:16:42.233165Z"
    }
   },
   "outputs": [
    {
     "data": {
      "text/plain": [
       "(7, 18)"
      ]
     },
     "execution_count": 69,
     "metadata": {},
     "output_type": "execute_result"
    }
   ],
   "source": [
    "FF.shape"
   ]
  },
  {
   "cell_type": "code",
   "execution_count": null,
   "metadata": {},
   "outputs": [],
   "source": []
  },
  {
   "cell_type": "code",
   "execution_count": null,
   "metadata": {},
   "outputs": [],
   "source": []
  },
  {
   "cell_type": "markdown",
   "metadata": {
    "ExecuteTime": {
     "end_time": "2019-04-04T12:36:46.004893Z",
     "start_time": "2019-04-04T12:36:46.001619Z"
    }
   },
   "source": [
    "# Testing"
   ]
  },
  {
   "cell_type": "markdown",
   "metadata": {},
   "source": [
    "For testing, let we have an image (I), make it as a column vector say I1 = mn*1"
   ]
  },
  {
   "cell_type": "code",
   "execution_count": 76,
   "metadata": {
    "ExecuteTime": {
     "end_time": "2019-04-05T03:22:47.656815Z",
     "start_time": "2019-04-05T03:22:47.647820Z"
    }
   },
   "outputs": [
    {
     "data": {
      "text/plain": [
       "(10, 7)"
      ]
     },
     "execution_count": 76,
     "metadata": {},
     "output_type": "execute_result"
    }
   ],
   "source": [
    "\n",
    "w.shape"
   ]
  },
  {
   "cell_type": "code",
   "execution_count": 98,
   "metadata": {
    "ExecuteTime": {
     "end_time": "2019-04-05T03:33:55.914165Z",
     "start_time": "2019-04-05T03:33:55.845267Z"
    }
   },
   "outputs": [
    {
     "name": "stdout",
     "output_type": "stream",
     "text": [
      "Sumanth_2.jpg     Aditya_4.jpg     16\n",
      "Priyo_3.jpg     Aditya_5.jpg     14\n",
      "Sumanth_2.jpg     Ajay_4.png     16\n",
      "Arindam_1.jpg     Ajay_5.png     6\n",
      "Ajay_3.png     Arindam_4.jpg     5\n",
      "Sumanth_2.jpg     Arindam_5.jpg     16\n",
      "Priyo_3.jpg     Arindam_6.jpg     14\n",
      "Priyo_1.jpg     Mohit_4.jpg     12\n",
      "Aditya_3.jpg     Mohit_5.jpg     2\n",
      "Priyo_3.jpg     Priyo_4.jpg     14\n",
      "Arindam_1.jpg     Priyo_5.jpg     6\n",
      "Sumanth_2.jpg     Sumanth_4.jpg     16\n",
      "Arindam_2.jpeg     Sumanth_5.jpg     7\n"
     ]
    }
   ],
   "source": [
    "for j in range(X_test.shape[0]):\n",
    "    test1 = X_test.iloc[j,:]\n",
    "\n",
    "    # Do mean Zero, by subtracting mean face (M) to this test face, say it I2\n",
    "    test1 = np.array(test1 - test1.mean()).reshape(test1.shape[0],1)\n",
    "\n",
    "    # Calculate the projected Eigen Face (PEF) by Project it with the Eigen faces (EF) that we have constructed by using PCA.\n",
    "    test_face = Eigenfaces @ test1   \n",
    "    # test_face\n",
    "\n",
    "    # Now do the final projection (Projected Fisher Test Image) with the help of feature vectors (W to this Projected Eigen Face.\n",
    "    Projected_Fisher_Test_Img = w.T @ test_face\n",
    "    Projected_Fisher_Test_Img.shape\n",
    "\n",
    "    dis = []\n",
    "    for i in range(FF.shape[1]):\n",
    "        diff = FF[:,i].reshape(FF.shape[0], 1) - Projected_Fisher_Test_Img\n",
    "        dis.append(np.dot(diff.T,diff))\n",
    "    ans = np.argmin(dis)\n",
    "    print(train[ans] , \"   \" , test[j], \"   \", ans)"
   ]
  }
 ],
 "metadata": {
  "kernelspec": {
   "display_name": "Python 3",
   "language": "python",
   "name": "python3"
  },
  "language_info": {
   "codemirror_mode": {
    "name": "ipython",
    "version": 3
   },
   "file_extension": ".py",
   "mimetype": "text/x-python",
   "name": "python",
   "nbconvert_exporter": "python",
   "pygments_lexer": "ipython3",
   "version": "3.6.8"
  },
  "toc": {
   "base_numbering": 1,
   "nav_menu": {},
   "number_sections": true,
   "sideBar": true,
   "skip_h1_title": false,
   "title_cell": "Table of Contents",
   "title_sidebar": "Contents",
   "toc_cell": false,
   "toc_position": {},
   "toc_section_display": true,
   "toc_window_display": false
  }
 },
 "nbformat": 4,
 "nbformat_minor": 2
}
