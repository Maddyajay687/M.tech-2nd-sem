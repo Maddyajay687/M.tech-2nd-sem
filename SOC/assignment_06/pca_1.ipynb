{
 "cells": [
  {
   "cell_type": "code",
   "execution_count": 1,
   "metadata": {},
   "outputs": [],
   "source": [
    "from PIL import Image\n",
    "import os\n",
    "from scipy.linalg import eigh\n",
    "import numpy as np\n",
    "import pandas as pd"
   ]
  },
  {
   "cell_type": "code",
   "execution_count": 2,
   "metadata": {},
   "outputs": [],
   "source": [
    "dir = '/Users/ajay/Desktop/IIITA/M.tech_2nd_sem/SOC/assignment_06/pca_dataset/'"
   ]
  },
  {
   "cell_type": "code",
   "execution_count": 4,
   "metadata": {},
   "outputs": [
    {
     "name": "stdout",
     "output_type": "stream",
     "text": [
      "Arindam_4.jpg\n",
      "Priyo_3.jpg\n",
      "Sumanth_1.jpg\n",
      "Aditya_2.jpg\n",
      "Aditya_3.jpg\n",
      "Mohit_4.jpg\n",
      "Priyo_2.jpg\n",
      "Arindam_5.jpg\n",
      "Sumanth_2.jpg\n",
      "Aditya_1.jpg\n",
      "Sumanth_3.jpg\n",
      "Priyo_1.jpg\n",
      "Arindam_6.jpg\n",
      "Priyo_5.jpg\n",
      "Mohit_3.jpg\n",
      "Aditya_4.jpg\n",
      "Aditya_5.jpg\n",
      "Mohit_2.jpg\n",
      "Priyo_4.jpg\n",
      "Arindam_1.jpg\n",
      "Sumanth_4.jpg\n",
      "Sumanth_5.jpg\n",
      "Mohit_1.jpg\n",
      "Ajay_4.png\n",
      "Ajay_5.png\n",
      "Ajay_2.png\n",
      "IMG_20190306_090206.jpg\n",
      "Ajay_3.png\n",
      "Ajay_1.png\n",
      "Arindam_2.jpeg\n",
      "Arindam_3.jpeg\n"
     ]
    }
   ],
   "source": [
    "for file_name in os.listdir(dir):\n",
    "    print(file_name)\n",
    "    image = Image.open(dir+'/'+file_name)\n",
    "    gray_scaled = image.convert('L')\n",
    "    resized_img = gray_scaled.resize((250,250))\n",
    "    resized_img.save(file_name)"
   ]
  },
  {
   "cell_type": "code",
   "execution_count": 67,
   "metadata": {},
   "outputs": [],
   "source": [
    "dir1 = '/Users/ajay/Desktop/IIITA/M.tech_2nd_sem/SOC/assignment_06/pca_data_grey/'"
   ]
  },
  {
   "cell_type": "code",
   "execution_count": 68,
   "metadata": {},
   "outputs": [],
   "source": [
    "def get_data():\n",
    "    data = []\n",
    "    name_list = []\n",
    "    for file_name in os.listdir(dir1):\n",
    "        print(file_name)\n",
    "        a = np.array(Image.open(dir1+'/'+file_name))\n",
    "        print(len(a))\n",
    "        data.append(a.flatten())\n",
    "        name_list.append(file_name)\n",
    "    return data,name_list"
   ]
  },
  {
   "cell_type": "code",
   "execution_count": 69,
   "metadata": {},
   "outputs": [
    {
     "name": "stdout",
     "output_type": "stream",
     "text": [
      "Arindam_4.jpg\n",
      "250\n",
      "Priyo_3.jpg\n",
      "250\n",
      "Aditya_3.jpg\n",
      "250\n",
      "Mohit_4.jpg\n",
      "250\n",
      "Arindam_5.jpg\n",
      "250\n",
      "Sumanth_3.jpg\n",
      "250\n",
      "mohit_7.jpg\n",
      "250\n",
      "Arindam_6.jpg\n",
      "250\n",
      "Priyo_5.jpg\n",
      "250\n",
      "Mohit_3.jpg\n",
      "250\n",
      "Aditya_4.jpg\n",
      "250\n",
      "Aditya_5.jpg\n",
      "250\n",
      "Priyo_4.jpg\n",
      "250\n",
      "Sumanth_4.jpg\n",
      "250\n",
      "Sumanth_5.jpg\n",
      "250\n",
      "Ajay_4.png\n",
      "250\n",
      "Ajay_5.png\n",
      "250\n",
      "Ajay_3.png\n",
      "250\n",
      "Arindam_3.jpeg\n",
      "250\n"
     ]
    }
   ],
   "source": [
    "data,names = get_data()"
   ]
  },
  {
   "cell_type": "code",
   "execution_count": 70,
   "metadata": {},
   "outputs": [],
   "source": [
    "data = (np.asarray(data)).T"
   ]
  },
  {
   "cell_type": "code",
   "execution_count": 71,
   "metadata": {},
   "outputs": [
    {
     "data": {
      "text/plain": [
       "(62500, 19)"
      ]
     },
     "execution_count": 71,
     "metadata": {},
     "output_type": "execute_result"
    }
   ],
   "source": [
    "data.shape"
   ]
  },
  {
   "cell_type": "code",
   "execution_count": 72,
   "metadata": {},
   "outputs": [
    {
     "data": {
      "text/plain": [
       "'Sumanth_4.jpg'"
      ]
     },
     "execution_count": 72,
     "metadata": {},
     "output_type": "execute_result"
    }
   ],
   "source": [
    "names[13]"
   ]
  },
  {
   "cell_type": "code",
   "execution_count": 73,
   "metadata": {},
   "outputs": [],
   "source": [
    "def get_mean(data):\n",
    "    Mean = []\n",
    "    for rows in data:\n",
    "        Mean.append(int(rows[0].mean()))\n",
    "    return np.asarray(Mean)"
   ]
  },
  {
   "cell_type": "code",
   "execution_count": 74,
   "metadata": {},
   "outputs": [],
   "source": [
    "mean = get_mean(data)"
   ]
  },
  {
   "cell_type": "code",
   "execution_count": 75,
   "metadata": {},
   "outputs": [],
   "source": [
    "mean = mean.reshape(-1,1)"
   ]
  },
  {
   "cell_type": "code",
   "execution_count": 76,
   "metadata": {},
   "outputs": [],
   "source": [
    "normalized_data = data - mean"
   ]
  },
  {
   "cell_type": "code",
   "execution_count": 77,
   "metadata": {},
   "outputs": [],
   "source": [
    "cov = 1/(normalized_data.shape[0]) * np.matmul(normalized_data.T, normalized_data)"
   ]
  },
  {
   "cell_type": "code",
   "execution_count": 78,
   "metadata": {},
   "outputs": [],
   "source": [
    "eigen_values, eigen_vectors = eigh(cov,eigvals=(17,18))"
   ]
  },
  {
   "cell_type": "code",
   "execution_count": 79,
   "metadata": {},
   "outputs": [
    {
     "data": {
      "text/plain": [
       "array([ 11019.83828015, 118446.42382253])"
      ]
     },
     "execution_count": 79,
     "metadata": {},
     "output_type": "execute_result"
    }
   ],
   "source": [
    "eigen_values"
   ]
  },
  {
   "cell_type": "code",
   "execution_count": 80,
   "metadata": {},
   "outputs": [
    {
     "data": {
      "text/plain": [
       "(19, 2)"
      ]
     },
     "execution_count": 80,
     "metadata": {},
     "output_type": "execute_result"
    }
   ],
   "source": [
    "eigen_vectors.shape"
   ]
  },
  {
   "cell_type": "code",
   "execution_count": 81,
   "metadata": {},
   "outputs": [],
   "source": [
    "eigen_face = np.matmul(eigen_vectors.T,normalized_data.T)"
   ]
  },
  {
   "cell_type": "code",
   "execution_count": 82,
   "metadata": {},
   "outputs": [
    {
     "data": {
      "text/plain": [
       "(2, 62500)"
      ]
     },
     "execution_count": 82,
     "metadata": {},
     "output_type": "execute_result"
    }
   ],
   "source": [
    "eigen_face.shape"
   ]
  },
  {
   "cell_type": "code",
   "execution_count": 83,
   "metadata": {},
   "outputs": [],
   "source": [
    "signature = np.matmul(eigen_face,normalized_data)"
   ]
  },
  {
   "cell_type": "code",
   "execution_count": 84,
   "metadata": {},
   "outputs": [
    {
     "data": {
      "text/plain": [
       "(2, 19)"
      ]
     },
     "execution_count": 84,
     "metadata": {},
     "output_type": "execute_result"
    }
   ],
   "source": [
    "signature.shape"
   ]
  },
  {
   "cell_type": "code",
   "execution_count": 85,
   "metadata": {},
   "outputs": [
    {
     "data": {
      "text/plain": [
       "'/Users/ajay/Desktop/IIITA/M.tech_2nd_sem/SOC/assignment_06'"
      ]
     },
     "execution_count": 85,
     "metadata": {},
     "output_type": "execute_result"
    }
   ],
   "source": [
    "pwd"
   ]
  },
  {
   "cell_type": "code",
   "execution_count": 86,
   "metadata": {},
   "outputs": [],
   "source": [
    "dir2 = '/Users/ajay/Desktop/IIITA/M.tech_2nd_sem/SOC/assignment_06/test_Set_grey/'"
   ]
  },
  {
   "cell_type": "code",
   "execution_count": 87,
   "metadata": {},
   "outputs": [
    {
     "name": "stdout",
     "output_type": "stream",
     "text": [
      "predicted = Mohit_4.jpg, Actual = Sumanth_1.jpg\n",
      "predicted = Sumanth_5.jpg, Actual = Aditya_2.jpg\n",
      "predicted = Mohit_4.jpg, Actual = Priyo_2.jpg\n",
      "predicted = Sumanth_5.jpg, Actual = Sumanth_2.jpg\n",
      "predicted = Mohit_4.jpg, Actual = Aditya_1.jpg\n",
      "predicted = Sumanth_5.jpg, Actual = Priyo_1.jpg\n",
      "predicted = Mohit_4.jpg, Actual = Mohit_2.jpg\n",
      "predicted = Arindam_4.jpg, Actual = Arindam_1.jpg\n",
      "predicted = Sumanth_5.jpg, Actual = Mohit_1.jpg\n",
      "predicted = Mohit_4.jpg, Actual = Ajay_2.png\n",
      "predicted = Mohit_4.jpg, Actual = Ajay_1.png\n",
      "predicted = Arindam_4.jpg, Actual = Arindam_2.jpeg\n"
     ]
    }
   ],
   "source": [
    "for file in os.listdir(dir2):\n",
    "    image = Image.open(dir2 +'/'+file)\n",
    "    vec = np.asarray(image)\n",
    "    vec = vec.flatten()\n",
    "    vec = vec.reshape(-1,1)\n",
    "    vec_new = vec - mean\n",
    "    projected_test_face = np.matmul(eigen_face,vec_new)\n",
    "    index = []\n",
    "    for i in range(signature.shape[1]):\n",
    "        distance = np.sqrt(np.sum((signature[:,i] - projected_test_face)**2))\n",
    "        index.append(distance)\n",
    "    #print(np.argmin(index))\n",
    "    print('predicted = {}, Actual = {}'.format(names[np.argmin(index)],file))\n",
    "    #print(projected_test_face.shape)"
   ]
  },
  {
   "cell_type": "code",
   "execution_count": null,
   "metadata": {},
   "outputs": [],
   "source": []
  }
 ],
 "metadata": {
  "kernelspec": {
   "display_name": "Python 3",
   "language": "python",
   "name": "python3"
  },
  "language_info": {
   "codemirror_mode": {
    "name": "ipython",
    "version": 3
   },
   "file_extension": ".py",
   "mimetype": "text/x-python",
   "name": "python",
   "nbconvert_exporter": "python",
   "pygments_lexer": "ipython3",
   "version": "3.6.8"
  }
 },
 "nbformat": 4,
 "nbformat_minor": 2
}
