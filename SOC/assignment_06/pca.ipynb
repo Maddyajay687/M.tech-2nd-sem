{
 "cells": [
  {
   "cell_type": "code",
   "execution_count": 1,
   "metadata": {},
   "outputs": [],
   "source": [
    "from PIL import Image\n",
    "import os\n",
    "from scipy.linalg import eigh\n",
    "import numpy as np\n",
    "import pandas as pd"
   ]
  },
  {
   "cell_type": "code",
   "execution_count": 32,
   "metadata": {},
   "outputs": [],
   "source": [
    "dir = '/Users/ajay/Desktop/IIITA/M.tech_2nd_sem/SOC/assignment_06/pca_dataset/'"
   ]
  },
  {
   "cell_type": "code",
   "execution_count": 35,
   "metadata": {},
   "outputs": [
    {
     "name": "stdout",
     "output_type": "stream",
     "text": [
      "Arindam_4.jpg 0\n",
      "Priyo_3.jpg 1\n",
      "Sumanth_1.jpg 2\n",
      "Aditya_2.jpg 3\n",
      "Aditya_3.jpg 4\n",
      "Mohit_4.jpg 5\n",
      "Priyo_2.jpg 6\n",
      "Arindam_5.jpg 7\n",
      "Sumanth_2.jpg 8\n",
      "Aditya_1.jpg 9\n",
      "Sumanth_3.jpg 10\n",
      "Priyo_1.jpg 11\n",
      "Arindam_6.jpg 12\n",
      "Priyo_5.jpg 13\n",
      "Mohit_3.jpg 14\n",
      "Aditya_4.jpg 15\n",
      "Aditya_5.jpg 16\n",
      "Mohit_2.jpg 17\n",
      "Priyo_4.jpg 18\n",
      "Arindam_1.jpg 19\n",
      "Sumanth_4.jpg 20\n",
      "Sumanth_5.jpg 21\n",
      "Mohit_1.jpg 22\n",
      "Ajay_4.png 23\n",
      "Ajay_5.png 24\n",
      "Ajay_2.png 25\n",
      "IMG_20190306_090206.jpg 26\n",
      "Ajay_3.png 27\n",
      "Ajay_1.png 28\n",
      "Arindam_2.jpeg 29\n",
      "Arindam_3.jpeg 30\n"
     ]
    }
   ],
   "source": [
    "i = 0\n",
    "for file_name in os.listdir(dir):\n",
    "    print(file_name,i)\n",
    "    i = i+1\n",
    "    image = Image.open(dir+'/'+file_name)\n",
    "    gray_scaled = image.convert('L')\n",
    "    resized_img = gray_scaled.resize((250,250))\n",
    "    resized_img.save(file_name)"
   ]
  },
  {
   "cell_type": "code",
   "execution_count": 34,
   "metadata": {},
   "outputs": [],
   "source": [
    "dir1 = '/Users/ajay/Desktop/IIITA/M.tech_2nd_sem/SOC/assignment_06/pca_data_grey/'"
   ]
  },
  {
   "cell_type": "code",
   "execution_count": 40,
   "metadata": {},
   "outputs": [],
   "source": [
    "def get_data():\n",
    "    data = []\n",
    "    i = 0\n",
    "    name_list = []\n",
    "    for file_name in os.listdir(dir1):\n",
    "        print(file_name,i)\n",
    "        i = i+1\n",
    "        a = np.array(Image.open(dir1+'/'+file_name))\n",
    "        #print(len(a))\n",
    "        data.append(a.flatten())\n",
    "        name_list.append(file_name)\n",
    "    return data,name_list"
   ]
  },
  {
   "cell_type": "code",
   "execution_count": 41,
   "metadata": {},
   "outputs": [
    {
     "name": "stdout",
     "output_type": "stream",
     "text": [
      "Arindam_4.jpg 0\n",
      "Priyo_3.jpg 1\n",
      "Aditya_3.jpg 2\n",
      "Mohit_4.jpg 3\n",
      "Arindam_5.jpg 4\n",
      "Sumanth_3.jpg 5\n",
      "mohit_7.jpg 6\n",
      "Arindam_6.jpg 7\n",
      "Priyo_5.jpg 8\n",
      "Mohit_3.jpg 9\n",
      "Aditya_4.jpg 10\n",
      "Aditya_5.jpg 11\n",
      "Priyo_4.jpg 12\n",
      "Sumanth_4.jpg 13\n",
      "Sumanth_5.jpg 14\n",
      "Ajay_4.png 15\n",
      "Ajay_5.png 16\n",
      "Ajay_3.png 17\n",
      "Arindam_3.jpeg 18\n"
     ]
    }
   ],
   "source": [
    "data,names = get_data()"
   ]
  },
  {
   "cell_type": "code",
   "execution_count": 6,
   "metadata": {},
   "outputs": [],
   "source": [
    "data = (np.asarray(data)).T"
   ]
  },
  {
   "cell_type": "code",
   "execution_count": 7,
   "metadata": {},
   "outputs": [
    {
     "data": {
      "text/plain": [
       "(62500, 19)"
      ]
     },
     "execution_count": 7,
     "metadata": {},
     "output_type": "execute_result"
    }
   ],
   "source": [
    "data.shape"
   ]
  },
  {
   "cell_type": "code",
   "execution_count": 8,
   "metadata": {},
   "outputs": [
    {
     "data": {
      "text/plain": [
       "'Sumanth_4.jpg'"
      ]
     },
     "execution_count": 8,
     "metadata": {},
     "output_type": "execute_result"
    }
   ],
   "source": [
    "names[13]"
   ]
  },
  {
   "cell_type": "code",
   "execution_count": 9,
   "metadata": {},
   "outputs": [],
   "source": [
    "def get_mean(data):\n",
    "    Mean = []\n",
    "    for rows in data:\n",
    "        Mean.append(int(rows[0].mean()))\n",
    "    return np.asarray(Mean)"
   ]
  },
  {
   "cell_type": "code",
   "execution_count": 10,
   "metadata": {},
   "outputs": [],
   "source": [
    "mean = get_mean(data)"
   ]
  },
  {
   "cell_type": "code",
   "execution_count": 11,
   "metadata": {},
   "outputs": [],
   "source": [
    "mean = mean.reshape(-1,1)"
   ]
  },
  {
   "cell_type": "code",
   "execution_count": 12,
   "metadata": {},
   "outputs": [],
   "source": [
    "normalized_data = data - mean"
   ]
  },
  {
   "cell_type": "code",
   "execution_count": 13,
   "metadata": {},
   "outputs": [],
   "source": [
    "cov = 1/(normalized_data.shape[0]) * np.matmul(normalized_data.T, normalized_data)"
   ]
  },
  {
   "cell_type": "code",
   "execution_count": 14,
   "metadata": {},
   "outputs": [],
   "source": [
    "eigen_values, eigen_vectors = eigh(cov,eigvals=(17,18))"
   ]
  },
  {
   "cell_type": "code",
   "execution_count": 15,
   "metadata": {},
   "outputs": [
    {
     "data": {
      "text/plain": [
       "array([ 11019.83828015, 118446.42382253])"
      ]
     },
     "execution_count": 15,
     "metadata": {},
     "output_type": "execute_result"
    }
   ],
   "source": [
    "eigen_values"
   ]
  },
  {
   "cell_type": "code",
   "execution_count": 16,
   "metadata": {},
   "outputs": [
    {
     "data": {
      "text/plain": [
       "(19, 2)"
      ]
     },
     "execution_count": 16,
     "metadata": {},
     "output_type": "execute_result"
    }
   ],
   "source": [
    "eigen_vectors.shape"
   ]
  },
  {
   "cell_type": "code",
   "execution_count": 17,
   "metadata": {},
   "outputs": [],
   "source": [
    "eigen_face = np.matmul(eigen_vectors.T,normalized_data.T)"
   ]
  },
  {
   "cell_type": "code",
   "execution_count": 18,
   "metadata": {},
   "outputs": [
    {
     "data": {
      "text/plain": [
       "(2, 62500)"
      ]
     },
     "execution_count": 18,
     "metadata": {},
     "output_type": "execute_result"
    }
   ],
   "source": [
    "eigen_face.shape"
   ]
  },
  {
   "cell_type": "code",
   "execution_count": 19,
   "metadata": {},
   "outputs": [],
   "source": [
    "signature = np.matmul(eigen_face,normalized_data)"
   ]
  },
  {
   "cell_type": "code",
   "execution_count": 20,
   "metadata": {},
   "outputs": [
    {
     "data": {
      "text/plain": [
       "(2, 19)"
      ]
     },
     "execution_count": 20,
     "metadata": {},
     "output_type": "execute_result"
    }
   ],
   "source": [
    "signature.shape"
   ]
  },
  {
   "cell_type": "code",
   "execution_count": 21,
   "metadata": {},
   "outputs": [
    {
     "data": {
      "text/plain": [
       "'/Users/ajay/Desktop/IIITA/M.tech_2nd_sem/SOC/assignment_06'"
      ]
     },
     "execution_count": 21,
     "metadata": {},
     "output_type": "execute_result"
    }
   ],
   "source": [
    "pwd"
   ]
  },
  {
   "cell_type": "code",
   "execution_count": 22,
   "metadata": {},
   "outputs": [],
   "source": [
    "dir2 = '/Users/ajay/Desktop/IIITA/M.tech_2nd_sem/SOC/assignment_06/test_Set_grey/'"
   ]
  },
  {
   "cell_type": "code",
   "execution_count": 23,
   "metadata": {},
   "outputs": [
    {
     "name": "stdout",
     "output_type": "stream",
     "text": [
      "predicted = Mohit_4.jpg, Actual = Sumanth_1.jpg\n",
      "predicted = Sumanth_5.jpg, Actual = Aditya_2.jpg\n",
      "predicted = Mohit_4.jpg, Actual = Priyo_2.jpg\n",
      "predicted = Sumanth_5.jpg, Actual = Sumanth_2.jpg\n",
      "predicted = Mohit_4.jpg, Actual = Aditya_1.jpg\n",
      "predicted = Sumanth_5.jpg, Actual = Priyo_1.jpg\n",
      "predicted = Mohit_4.jpg, Actual = Mohit_2.jpg\n",
      "predicted = Arindam_4.jpg, Actual = Arindam_1.jpg\n",
      "predicted = Sumanth_5.jpg, Actual = Mohit_1.jpg\n",
      "predicted = Mohit_4.jpg, Actual = Ajay_2.png\n",
      "predicted = Mohit_4.jpg, Actual = Ajay_1.png\n",
      "predicted = Arindam_4.jpg, Actual = Arindam_2.jpeg\n"
     ]
    }
   ],
   "source": [
    "for file in os.listdir(dir2):\n",
    "    image = Image.open(dir2 +'/'+file)\n",
    "    vec = np.asarray(image)\n",
    "    vec = vec.flatten()\n",
    "    vec = vec.reshape(-1,1)\n",
    "    vec_new = vec - mean\n",
    "    projected_test_face = np.matmul(eigen_face,vec_new)\n",
    "    index = []\n",
    "    for i in range(signature.shape[1]):\n",
    "        distance = np.sqrt(np.sum((signature[:,i] - projected_test_face)**2))\n",
    "        index.append(distance)\n",
    "    #print(np.argmin(index))\n",
    "    print('predicted = {}, Actual = {}'.format(names[np.argmin(index)],file))\n",
    "    #print(projected_test_face.shape)"
   ]
  },
  {
   "cell_type": "markdown",
   "metadata": {},
   "source": [
    "# Face Recognition using LDA"
   ]
  },
  {
   "cell_type": "code",
   "execution_count": 27,
   "metadata": {},
   "outputs": [],
   "source": [
    "Projected_faces = signature\n",
    "number_of_class = int(signature.shape[1]/3)"
   ]
  },
  {
   "cell_type": "code",
   "execution_count": 91,
   "metadata": {},
   "outputs": [
    {
     "data": {
      "text/plain": [
       "(2, 19)"
      ]
     },
     "execution_count": 91,
     "metadata": {},
     "output_type": "execute_result"
    }
   ],
   "source": [
    "signature.shape"
   ]
  },
  {
   "cell_type": "code",
   "execution_count": 42,
   "metadata": {},
   "outputs": [],
   "source": [
    "arindam = [0,4,7,18]\n",
    "Priyo = [1,8,12]\n",
    "Aditya = [2,10,11]\n",
    "Mohit = [3,6,9]\n",
    "Sumanth = [5,13,14]\n",
    "Ajay = [15,16,17]"
   ]
  },
  {
   "cell_type": "code",
   "execution_count": 94,
   "metadata": {},
   "outputs": [
    {
     "data": {
      "text/plain": [
       "array([ 1.00736900e+08, -1.10872783e+09])"
      ]
     },
     "execution_count": 94,
     "metadata": {},
     "output_type": "execute_result"
    }
   ],
   "source": [
    "signature[:,arindam].mean(axis = 1)"
   ]
  },
  {
   "cell_type": "code",
   "execution_count": 112,
   "metadata": {},
   "outputs": [],
   "source": [
    "index = [arindam, Priyo, Aditya, Mohit, Sumanth, Ajay]"
   ]
  },
  {
   "cell_type": "code",
   "execution_count": 117,
   "metadata": {},
   "outputs": [
    {
     "data": {
      "text/plain": [
       "[[0, 4, 7, 18], [1, 8, 12], [2, 10, 11], [3, 6, 9], [5, 13, 14], [15, 16, 17]]"
      ]
     },
     "execution_count": 117,
     "metadata": {},
     "output_type": "execute_result"
    }
   ],
   "source": []
  },
  {
   "cell_type": "code",
   "execution_count": 113,
   "metadata": {},
   "outputs": [
    {
     "data": {
      "text/plain": [
       "array([-1.37727824e+07, -1.58123783e+09])"
      ]
     },
     "execution_count": 113,
     "metadata": {},
     "output_type": "execute_result"
    }
   ],
   "source": [
    "np.mean(Projected_faces,axis=1)"
   ]
  },
  {
   "cell_type": "code",
   "execution_count": 83,
   "metadata": {},
   "outputs": [],
   "source": [
    "Projected_face_mean = np.mean(Projected_faces,axis = 1)"
   ]
  },
  {
   "cell_type": "code",
   "execution_count": 115,
   "metadata": {},
   "outputs": [],
   "source": [
    "def calc_mean(data):\n",
    "    return signature[:,data].mean(axis=1).reshape(-1,1)"
   ]
  },
  {
   "cell_type": "code",
   "execution_count": 103,
   "metadata": {},
   "outputs": [],
   "source": [
    "arindam_mean = signature[:,arindam].mean(axis = 1).reshape(-1,1)\n",
    "sumanth_mean = signature[:,Sumanth].mean(axis = 1).reshape(-1,1)\n",
    "Priyo_mean = signature[:,Priyo].mean(axis = 1).reshape(-1,1)\n",
    "Aditya_mean = signature[:,Aditya].mean(axis = 1).reshape(-1,1)\n",
    "Mohit_mean = signature[:,Mohit].mean(axis = 1).reshape(-1,1)\n",
    "Ajay_mean = signature[:,Ajay].mean(axis = 1).reshape(-1,1)"
   ]
  },
  {
   "cell_type": "code",
   "execution_count": 147,
   "metadata": {},
   "outputs": [],
   "source": [
    "def SW(index):\n",
    "    sum = 0\n",
    "    for data in index:\n",
    "        mean = calc_mean(data)\n",
    "        #print(mean)\n",
    "        sum += np.matmul((signature[:,data]-mean),(signature[:,data]-mean).T)\n",
    "        print(sum)\n",
    "    return sum"
   ]
  },
  {
   "cell_type": "code",
   "execution_count": 148,
   "metadata": {},
   "outputs": [
    {
     "name": "stdout",
     "output_type": "stream",
     "text": [
      "[[ 2.65765407e+16 -1.13944664e+17]\n",
      " [-1.13944664e+17  1.91342653e+18]]\n",
      "[[ 8.13733751e+16 -2.43509607e+17]\n",
      " [-2.43509607e+17  2.25232328e+18]]\n",
      "[[ 9.26361798e+16 -1.84792333e+17]\n",
      " [-1.84792333e+17  2.55849974e+18]]\n",
      "[[ 1.50696672e+17 -3.94784209e+17]\n",
      " [-3.94784209e+17  3.31993781e+18]]\n",
      "[[ 1.84034158e+17 -5.84691976e+17]\n",
      " [-5.84691976e+17  4.89776498e+18]]\n",
      "[[ 2.01770549e+17 -5.75225311e+17]\n",
      " [-5.75225311e+17  5.91684306e+18]]\n"
     ]
    }
   ],
   "source": [
    "within_class = SW(index)"
   ]
  },
  {
   "cell_type": "code",
   "execution_count": 155,
   "metadata": {},
   "outputs": [],
   "source": [
    "def SB(index):\n",
    "    sum = 0\n",
    "    for data in index:\n",
    "        mean = calc_mean(data)\n",
    "        sum += np.matmul((mean-Projected_face_mean.reshape(-1,1)),mean.T)\n",
    "    return sum"
   ]
  },
  {
   "cell_type": "code",
   "execution_count": 156,
   "metadata": {},
   "outputs": [],
   "source": [
    "between_class = SB(index)"
   ]
  },
  {
   "cell_type": "code",
   "execution_count": 161,
   "metadata": {},
   "outputs": [],
   "source": [
    "criterion_func = np.matmul(np.linalg.inv(within_class),between_class)"
   ]
  },
  {
   "cell_type": "code",
   "execution_count": 163,
   "metadata": {},
   "outputs": [],
   "source": [
    "eigen_val,eigen_vec = eigh(criterion_func)"
   ]
  },
  {
   "cell_type": "code",
   "execution_count": 164,
   "metadata": {},
   "outputs": [
    {
     "data": {
      "text/plain": [
       "array([0.20187471, 0.62430016])"
      ]
     },
     "execution_count": 164,
     "metadata": {},
     "output_type": "execute_result"
    }
   ],
   "source": [
    "eigen_val"
   ]
  },
  {
   "cell_type": "code",
   "execution_count": 171,
   "metadata": {},
   "outputs": [
    {
     "data": {
      "text/plain": [
       "array([[ 0.15842163, -0.98737155],\n",
       "       [-0.98737155, -0.15842163]])"
      ]
     },
     "execution_count": 171,
     "metadata": {},
     "output_type": "execute_result"
    }
   ],
   "source": [
    "eigen_vec"
   ]
  },
  {
   "cell_type": "code",
   "execution_count": 174,
   "metadata": {},
   "outputs": [],
   "source": [
    "fischer_face = np.matmul(eigen_vec.T,signature)"
   ]
  },
  {
   "cell_type": "code",
   "execution_count": 176,
   "metadata": {},
   "outputs": [
    {
     "data": {
      "text/plain": [
       "(2, 19)"
      ]
     },
     "execution_count": 176,
     "metadata": {},
     "output_type": "execute_result"
    }
   ],
   "source": [
    "fischer_face.shape"
   ]
  },
  {
   "cell_type": "code",
   "execution_count": 181,
   "metadata": {},
   "outputs": [
    {
     "name": "stdout",
     "output_type": "stream",
     "text": [
      "(2, 1)\n",
      "(2, 19)\n",
      "predicted = Mohit_4.jpg, Actual = Sumanth_1.jpg\n",
      "(2, 1)\n",
      "(2, 19)\n",
      "predicted = Sumanth_5.jpg, Actual = Aditya_2.jpg\n",
      "(2, 1)\n",
      "(2, 19)\n",
      "predicted = Mohit_4.jpg, Actual = Priyo_2.jpg\n",
      "(2, 1)\n",
      "(2, 19)\n",
      "predicted = Sumanth_5.jpg, Actual = Sumanth_2.jpg\n",
      "(2, 1)\n",
      "(2, 19)\n",
      "predicted = Mohit_4.jpg, Actual = Aditya_1.jpg\n",
      "(2, 1)\n",
      "(2, 19)\n",
      "predicted = Sumanth_5.jpg, Actual = Priyo_1.jpg\n",
      "(2, 1)\n",
      "(2, 19)\n",
      "predicted = Mohit_4.jpg, Actual = Mohit_2.jpg\n",
      "(2, 1)\n",
      "(2, 19)\n",
      "predicted = Arindam_4.jpg, Actual = Arindam_1.jpg\n",
      "(2, 1)\n",
      "(2, 19)\n",
      "predicted = Sumanth_5.jpg, Actual = Mohit_1.jpg\n",
      "(2, 1)\n",
      "(2, 19)\n",
      "predicted = Mohit_4.jpg, Actual = Ajay_2.png\n",
      "(2, 1)\n",
      "(2, 19)\n",
      "predicted = Mohit_4.jpg, Actual = Ajay_1.png\n",
      "(2, 1)\n",
      "(2, 19)\n",
      "predicted = Arindam_4.jpg, Actual = Arindam_2.jpeg\n"
     ]
    }
   ],
   "source": [
    "for file in os.listdir(dir2):\n",
    "    image = Image.open(dir2 +'/'+file)\n",
    "    vec = np.asarray(image)\n",
    "    vec = vec.flatten()\n",
    "    vec = vec.reshape(-1,1)\n",
    "    vec_new = vec - mean\n",
    "    projected_test_face = np.matmul(eigen_face,vec_new)\n",
    "    projected_fischer_test_face = np.matmul(eigen_vec.T,projected_test_face)\n",
    "    print(projected_fischer_test_face.shape)\n",
    "    print(fischer_face.shape)\n",
    "    index = []\n",
    "    for i in range(signature.shape[1]):\n",
    "        distance = np.sqrt(np.sum((signature[:,i] - projected_test_face)**2))\n",
    "        index.append(distance)\n",
    "    #print(np.argmin(index))\n",
    "    print('predicted = {}, Actual = {}'.format(names[np.argmin(index)],file))\n",
    "    #print(projected_test_face.shape)"
   ]
  },
  {
   "cell_type": "code",
   "execution_count": null,
   "metadata": {},
   "outputs": [],
   "source": []
  }
 ],
 "metadata": {
  "kernelspec": {
   "display_name": "Python 3",
   "language": "python",
   "name": "python3"
  },
  "language_info": {
   "codemirror_mode": {
    "name": "ipython",
    "version": 3
   },
   "file_extension": ".py",
   "mimetype": "text/x-python",
   "name": "python",
   "nbconvert_exporter": "python",
   "pygments_lexer": "ipython3",
   "version": "3.6.8"
  }
 },
 "nbformat": 4,
 "nbformat_minor": 2
}
