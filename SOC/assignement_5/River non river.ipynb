{
 "cells": [
  {
   "cell_type": "markdown",
   "metadata": {},
   "source": [
    "# River / Non river Assignment 5 "
   ]
  },
  {
   "cell_type": "markdown",
   "metadata": {},
   "source": [
    "### Roll no: MIT2018007\n",
    "\n",
    "1. Using Naive Bayesian classifier predict river non river using Satellite data set of Hooghly river (unstructured data set)."
   ]
  },
  {
   "cell_type": "code",
   "execution_count": 1,
   "metadata": {},
   "outputs": [],
   "source": [
    "import numpy as np\n",
    "import pandas as pd\n",
    "import matplotlib.pyplot as plt\n",
    "from sklearn.metrics import confusion_matrix"
   ]
  },
  {
   "cell_type": "code",
   "execution_count": 2,
   "metadata": {},
   "outputs": [],
   "source": [
    "import pathlib\n",
    "import imageio\n",
    "import numpy as np"
   ]
  },
  {
   "cell_type": "code",
   "execution_count": 6,
   "metadata": {},
   "outputs": [
    {
     "data": {
      "text/plain": [
       "<module 'pathlib' from '/Users/ajay/anaconda3/lib/python3.6/pathlib.py'>"
      ]
     },
     "execution_count": 6,
     "metadata": {},
     "output_type": "execute_result"
    }
   ],
   "source": [
    "pathlib"
   ]
  },
  {
   "cell_type": "code",
   "execution_count": 7,
   "metadata": {},
   "outputs": [],
   "source": [
    "feature_paths = pathlib.Path('./images/').glob('*.gif')\n",
    "label_path = pathlib.Path('./images/PDCV1.jpeg')\n",
    "#feature_sorted = sorted([x for x in feature_paths]) \n",
    "#feature_sorted.append(label_path)"
   ]
  },
  {
   "cell_type": "code",
   "execution_count": 30,
   "metadata": {},
   "outputs": [
    {
     "data": {
      "text/plain": [
       "[PosixPath('images/1.gif'),\n",
       " PosixPath('images/2.gif'),\n",
       " PosixPath('images/3.gif'),\n",
       " PosixPath('images/4.gif'),\n",
       " PosixPath('images/PDCV1.jpeg')]"
      ]
     },
     "execution_count": 30,
     "metadata": {},
     "output_type": "execute_result"
    }
   ],
   "source": [
    "feature_sorted"
   ]
  },
  {
   "cell_type": "code",
   "execution_count": 8,
   "metadata": {},
   "outputs": [
    {
     "data": {
      "text/plain": [
       "('<generator object Path.glob at 0x1a0fc5ad00>',\n",
       " [PosixPath('images/1.gif'),\n",
       "  PosixPath('images/2.gif'),\n",
       "  PosixPath('images/3.gif'),\n",
       "  PosixPath('images/4.gif'),\n",
       "  PosixPath('images/PDCV1.jpeg')])"
      ]
     },
     "execution_count": 8,
     "metadata": {},
     "output_type": "execute_result"
    }
   ],
   "source": [
    "#im = imageio.imread(str(training_sorted))\n",
    "str(feature_paths), feature_sorted"
   ]
  },
  {
   "cell_type": "code",
   "execution_count": 32,
   "metadata": {},
   "outputs": [
    {
     "name": "stdout",
     "output_type": "stream",
     "text": [
      "(512, 512)\n",
      "(512, 512)\n",
      "(512, 512)\n",
      "(512, 512)\n",
      "(512, 512)\n"
     ]
    }
   ],
   "source": [
    "img = []\n",
    "for i in range(5):\n",
    "    im_path = feature_sorted[i]\n",
    "    im = imageio.imread(str(im_path))\n",
    "    print(im.shape)\n",
    "    img.append(np.array(im.flatten()))"
   ]
  },
  {
   "cell_type": "code",
   "execution_count": 35,
   "metadata": {
    "scrolled": true
   },
   "outputs": [
    {
     "data": {
      "text/html": [
       "<div>\n",
       "<style scoped>\n",
       "    .dataframe tbody tr th:only-of-type {\n",
       "        vertical-align: middle;\n",
       "    }\n",
       "\n",
       "    .dataframe tbody tr th {\n",
       "        vertical-align: top;\n",
       "    }\n",
       "\n",
       "    .dataframe thead th {\n",
       "        text-align: right;\n",
       "    }\n",
       "</style>\n",
       "<table border=\"1\" class=\"dataframe\">\n",
       "  <thead>\n",
       "    <tr style=\"text-align: right;\">\n",
       "      <th></th>\n",
       "      <th>Rband</th>\n",
       "      <th>Gband</th>\n",
       "      <th>Bband</th>\n",
       "      <th>Iband</th>\n",
       "      <th>Label</th>\n",
       "    </tr>\n",
       "  </thead>\n",
       "  <tbody>\n",
       "    <tr>\n",
       "      <th>0</th>\n",
       "      <td>40</td>\n",
       "      <td>26</td>\n",
       "      <td>26</td>\n",
       "      <td>40</td>\n",
       "      <td>0</td>\n",
       "    </tr>\n",
       "    <tr>\n",
       "      <th>1</th>\n",
       "      <td>40</td>\n",
       "      <td>25</td>\n",
       "      <td>26</td>\n",
       "      <td>42</td>\n",
       "      <td>0</td>\n",
       "    </tr>\n",
       "    <tr>\n",
       "      <th>2</th>\n",
       "      <td>37</td>\n",
       "      <td>23</td>\n",
       "      <td>19</td>\n",
       "      <td>46</td>\n",
       "      <td>0</td>\n",
       "    </tr>\n",
       "    <tr>\n",
       "      <th>3</th>\n",
       "      <td>42</td>\n",
       "      <td>27</td>\n",
       "      <td>28</td>\n",
       "      <td>39</td>\n",
       "      <td>0</td>\n",
       "    </tr>\n",
       "    <tr>\n",
       "      <th>4</th>\n",
       "      <td>41</td>\n",
       "      <td>25</td>\n",
       "      <td>24</td>\n",
       "      <td>37</td>\n",
       "      <td>0</td>\n",
       "    </tr>\n",
       "  </tbody>\n",
       "</table>\n",
       "</div>"
      ],
      "text/plain": [
       "   Rband  Gband  Bband  Iband  Label\n",
       "0     40     26     26     40      0\n",
       "1     40     25     26     42      0\n",
       "2     37     23     19     46      0\n",
       "3     42     27     28     39      0\n",
       "4     41     25     24     37      0"
      ]
     },
     "execution_count": 35,
     "metadata": {},
     "output_type": "execute_result"
    }
   ],
   "source": [
    "np.random.seed(3)\n",
    "data = pd.DataFrame(np.array(img).T,).sample(frac=1).reset_index(drop=True)\n",
    "data = data.rename(index=str, columns={0:'Rband', 1:'Gband', 2:'Bband', 3:'Iband', 4:'Label'})\n",
    "data.head()"
   ]
  },
  {
   "cell_type": "code",
   "execution_count": 59,
   "metadata": {},
   "outputs": [
    {
     "data": {
      "text/html": [
       "<div>\n",
       "<style scoped>\n",
       "    .dataframe tbody tr th:only-of-type {\n",
       "        vertical-align: middle;\n",
       "    }\n",
       "\n",
       "    .dataframe tbody tr th {\n",
       "        vertical-align: top;\n",
       "    }\n",
       "\n",
       "    .dataframe thead th {\n",
       "        text-align: right;\n",
       "    }\n",
       "</style>\n",
       "<table border=\"1\" class=\"dataframe\">\n",
       "  <thead>\n",
       "    <tr style=\"text-align: right;\">\n",
       "      <th></th>\n",
       "      <th>Rband</th>\n",
       "      <th>Gband</th>\n",
       "      <th>Bband</th>\n",
       "      <th>Iband</th>\n",
       "      <th>Label</th>\n",
       "    </tr>\n",
       "  </thead>\n",
       "  <tbody>\n",
       "    <tr>\n",
       "      <th>262139</th>\n",
       "      <td>40</td>\n",
       "      <td>27</td>\n",
       "      <td>29</td>\n",
       "      <td>33</td>\n",
       "      <td>0</td>\n",
       "    </tr>\n",
       "    <tr>\n",
       "      <th>262140</th>\n",
       "      <td>37</td>\n",
       "      <td>23</td>\n",
       "      <td>22</td>\n",
       "      <td>35</td>\n",
       "      <td>0</td>\n",
       "    </tr>\n",
       "    <tr>\n",
       "      <th>262141</th>\n",
       "      <td>37</td>\n",
       "      <td>23</td>\n",
       "      <td>23</td>\n",
       "      <td>37</td>\n",
       "      <td>0</td>\n",
       "    </tr>\n",
       "    <tr>\n",
       "      <th>262142</th>\n",
       "      <td>44</td>\n",
       "      <td>29</td>\n",
       "      <td>30</td>\n",
       "      <td>21</td>\n",
       "      <td>255</td>\n",
       "    </tr>\n",
       "    <tr>\n",
       "      <th>262143</th>\n",
       "      <td>43</td>\n",
       "      <td>29</td>\n",
       "      <td>31</td>\n",
       "      <td>21</td>\n",
       "      <td>255</td>\n",
       "    </tr>\n",
       "  </tbody>\n",
       "</table>\n",
       "</div>"
      ],
      "text/plain": [
       "        Rband  Gband  Bband  Iband  Label\n",
       "262139     40     27     29     33      0\n",
       "262140     37     23     22     35      0\n",
       "262141     37     23     23     37      0\n",
       "262142     44     29     30     21    255\n",
       "262143     43     29     31     21    255"
      ]
     },
     "execution_count": 59,
     "metadata": {},
     "output_type": "execute_result"
    }
   ],
   "source": [
    "data.tail()"
   ]
  },
  {
   "cell_type": "code",
   "execution_count": 37,
   "metadata": {},
   "outputs": [],
   "source": [
    "x = data.iloc[:,:4]\n",
    "y = data.iloc[:,4] > 100"
   ]
  },
  {
   "cell_type": "markdown",
   "metadata": {},
   "source": [
    "50 River class and 100 Non River Class"
   ]
  },
  {
   "cell_type": "code",
   "execution_count": 38,
   "metadata": {},
   "outputs": [],
   "source": [
    "loc = np.append(np.where(y == True)[0][:50], np.where(y == False)[0][:100])\n",
    "x_train = x.iloc[loc]\n",
    "y_train = y.iloc[loc]"
   ]
  },
  {
   "cell_type": "markdown",
   "metadata": {},
   "source": [
    "## Training"
   ]
  },
  {
   "cell_type": "code",
   "execution_count": 13,
   "metadata": {
    "scrolled": true
   },
   "outputs": [],
   "source": [
    "def train(x,y, alpha=1):\n",
    "    vocab = {'Rband':[],'Gband':[],'Bband':[],'Iband':[]}\n",
    "    freq_river = {'Rband':{},'Gband':{},'Bband':{},'Iband':{}}\n",
    "    freq_nonriver = {'Rband':{},'Gband':{},'Bband':{},'Iband':{}}\n",
    "    \n",
    "    for i in ['Rband','Gband','Bband','Iband']:\n",
    "        for j in range(150):\n",
    "            if x[i][j] not in vocab[i]:\n",
    "                vocab[i].append(x[i][j])\n",
    "                freq_river[i][x[i][j]] = 0\n",
    "                freq_nonriver[i][x[i][j]] = 0\n",
    "            if y[j] == True:\n",
    "                freq_river[i][x[i][j]] += 1\n",
    "            else:\n",
    "                freq_nonriver[i][x[i][j]] += 1\n",
    "    freq = {'river':freq_river, 'nonriver': freq_nonriver}\n",
    "    \n",
    "    return freq, vocab"
   ]
  },
  {
   "cell_type": "code",
   "execution_count": 42,
   "metadata": {},
   "outputs": [
    {
     "data": {
      "text/plain": [
       "{'river': {'Rband': {44: 27,\n",
       "   45: 9,\n",
       "   46: 5,\n",
       "   43: 8,\n",
       "   47: 1,\n",
       "   40: 0,\n",
       "   37: 0,\n",
       "   42: 0,\n",
       "   41: 0,\n",
       "   39: 0,\n",
       "   36: 0,\n",
       "   38: 0,\n",
       "   35: 0},\n",
       "  'Gband': {30: 26,\n",
       "   29: 10,\n",
       "   32: 2,\n",
       "   31: 11,\n",
       "   28: 1,\n",
       "   26: 0,\n",
       "   25: 0,\n",
       "   23: 0,\n",
       "   27: 0,\n",
       "   22: 0,\n",
       "   24: 0,\n",
       "   21: 0},\n",
       "  'Bband': {32: 19,\n",
       "   31: 20,\n",
       "   30: 5,\n",
       "   33: 3,\n",
       "   29: 2,\n",
       "   34: 1,\n",
       "   26: 0,\n",
       "   19: 0,\n",
       "   28: 0,\n",
       "   24: 0,\n",
       "   23: 0,\n",
       "   27: 0,\n",
       "   20: 0,\n",
       "   25: 0,\n",
       "   35: 0,\n",
       "   22: 0,\n",
       "   21: 0,\n",
       "   18: 0,\n",
       "   37: 0},\n",
       "  'Iband': {21: 20,\n",
       "   23: 3,\n",
       "   20: 8,\n",
       "   26: 1,\n",
       "   25: 3,\n",
       "   22: 11,\n",
       "   29: 1,\n",
       "   24: 2,\n",
       "   27: 1,\n",
       "   40: 0,\n",
       "   42: 0,\n",
       "   46: 0,\n",
       "   39: 0,\n",
       "   37: 0,\n",
       "   28: 0,\n",
       "   32: 0,\n",
       "   34: 0,\n",
       "   36: 0,\n",
       "   38: 0,\n",
       "   30: 0,\n",
       "   35: 0,\n",
       "   44: 0,\n",
       "   31: 0,\n",
       "   33: 0,\n",
       "   16: 0,\n",
       "   47: 0,\n",
       "   43: 0}},\n",
       " 'nonriver': {'Rband': {44: 10,\n",
       "   45: 3,\n",
       "   46: 0,\n",
       "   43: 11,\n",
       "   47: 0,\n",
       "   40: 14,\n",
       "   37: 10,\n",
       "   42: 13,\n",
       "   41: 12,\n",
       "   39: 18,\n",
       "   36: 2,\n",
       "   38: 5,\n",
       "   35: 2},\n",
       "  'Gband': {30: 2,\n",
       "   29: 3,\n",
       "   32: 0,\n",
       "   31: 1,\n",
       "   28: 11,\n",
       "   26: 18,\n",
       "   25: 19,\n",
       "   23: 12,\n",
       "   27: 12,\n",
       "   22: 3,\n",
       "   24: 17,\n",
       "   21: 2},\n",
       "  'Bband': {32: 4,\n",
       "   31: 3,\n",
       "   30: 7,\n",
       "   33: 1,\n",
       "   29: 7,\n",
       "   34: 1,\n",
       "   26: 14,\n",
       "   19: 2,\n",
       "   28: 8,\n",
       "   24: 13,\n",
       "   23: 10,\n",
       "   27: 13,\n",
       "   20: 3,\n",
       "   25: 6,\n",
       "   35: 1,\n",
       "   22: 2,\n",
       "   21: 1,\n",
       "   18: 3,\n",
       "   37: 1},\n",
       "  'Iband': {21: 1,\n",
       "   23: 0,\n",
       "   20: 1,\n",
       "   26: 2,\n",
       "   25: 2,\n",
       "   22: 0,\n",
       "   29: 6,\n",
       "   24: 1,\n",
       "   27: 2,\n",
       "   40: 7,\n",
       "   42: 4,\n",
       "   46: 1,\n",
       "   39: 5,\n",
       "   37: 5,\n",
       "   28: 6,\n",
       "   32: 10,\n",
       "   34: 10,\n",
       "   36: 8,\n",
       "   38: 5,\n",
       "   30: 8,\n",
       "   35: 5,\n",
       "   44: 1,\n",
       "   31: 4,\n",
       "   33: 3,\n",
       "   16: 1,\n",
       "   47: 1,\n",
       "   43: 1}}}"
      ]
     },
     "execution_count": 42,
     "metadata": {},
     "output_type": "execute_result"
    }
   ],
   "source": [
    "freq, vocab = train(x_train, y_train)\n",
    "freq"
   ]
  },
  {
   "cell_type": "code",
   "execution_count": null,
   "metadata": {},
   "outputs": [],
   "source": []
  },
  {
   "cell_type": "markdown",
   "metadata": {},
   "source": [
    "# Bayes Rule for taking the decision\n",
    "\n",
    "### If $P(River | w_1) > P(Non-River | w_1) $ <br> then <br>  $\\;\\;\\;\\;\\;\\;$ $River$ <br> else  <br> $\\;\\;\\;\\;\\;\\;$    $Non-river$\n",
    "### $P(Non-river | w_1) = \\frac{P(w_1 | Non-river) x P(non-river)}{P(w_1)} $ <br>\n",
    "### $P(River | w_1) = \\frac{P(w_1 | River) x P(River)}{P(w_1)} $\n",
    "\n",
    "Here $P(w_1) $ in denominator is common for computing both probablities, so it is not required for the decision"
   ]
  },
  {
   "cell_type": "code",
   "execution_count": 41,
   "metadata": {},
   "outputs": [],
   "source": [
    "def predict_river(x, freq, vocab):\n",
    "    h = []\n",
    "    for j in range(x.shape[0]):\n",
    "        p_river = 1/3\n",
    "        p_nonriver = 2/3\n",
    "        for i in ['Rband','Gband','Bband','Iband']:\n",
    "            if x[i][j] in vocab[i]:\n",
    "                p_river *= freq['river'][i][x[i][j]] / 50\n",
    "                p_nonriver *= freq['nonriver'][i][x[i][j]] / 100            \n",
    "#             else:\n",
    "#                 p_river *= 1 / 51\n",
    "#                 p_nonriver *= 1 / 101\n",
    "        if p_river > p_nonriver:\n",
    "            h.append(1)\n",
    "        else:\n",
    "            h.append(0)\n",
    "    return np.array(h)"
   ]
  },
  {
   "cell_type": "code",
   "execution_count": 17,
   "metadata": {},
   "outputs": [],
   "source": [
    "def accuracy(h, y, freq, vocab) :\n",
    "    cm = confusion_matrix(y,h)\n",
    "    plot_cm(cm)\n",
    "    print(\"\\nTotal non River:\" + str(np.where(y == 0)[0].shape[0]))\n",
    "    print(\"Total River:\" + str(np.where(y == 1)[0].shape[0]))\n",
    "    \n",
    "    print(\"\\nPredicted non River:\" + str(np.where(h == 0)[0].shape[0]))\n",
    "    print(\"Predicted River:\" + str(np.where(h == 1)[0].shape[0]))\n",
    "    \n",
    "    error = np.abs(h - y).sum()\n",
    "    return (1 - error / data.shape[0] )* 100"
   ]
  },
  {
   "cell_type": "markdown",
   "metadata": {},
   "source": [
    "### Ploting Function\n",
    "\n",
    "Ref: https://www.tarekatwan.com/index.php/2017/12/how-to-plot-a-confusion-matrix-in-python/"
   ]
  },
  {
   "cell_type": "code",
   "execution_count": 18,
   "metadata": {},
   "outputs": [],
   "source": [
    "def plot_cm(cm):\n",
    "    plt.clf()\n",
    "    plt.imshow(cm, interpolation='nearest', cmap=plt.cm.Wistia)\n",
    "    classNames = ['Negative (Not River)','Positive (River)']\n",
    "    plt.title('River or Not River Confusion Matrix - Test Data')\n",
    "    plt.ylabel('True label')\n",
    "    plt.xlabel('Predicted label')\n",
    "    tick_marks = np.arange(len(classNames))\n",
    "    plt.xticks(tick_marks, classNames, rotation=45)\n",
    "    plt.yticks(tick_marks, classNames)\n",
    "    s = [['TN','FP'], ['FN', 'TP']]\n",
    "    for i in range(2):\n",
    "        for j in range(2):\n",
    "            plt.text(j,i, str(s[i][j])+\" = \"+str(cm[i][j]))\n",
    "    plt.show()"
   ]
  },
  {
   "cell_type": "code",
   "execution_count": 19,
   "metadata": {},
   "outputs": [],
   "source": [
    "freq, vocab = train(x_train, y_train)"
   ]
  },
  {
   "cell_type": "code",
   "execution_count": 45,
   "metadata": {},
   "outputs": [
    {
     "data": {
      "image/png": "[encoded data removed]",
      "text/plain": [
       "<Figure size 432x288 with 1 Axes>"
      ]
     },
     "metadata": {},
     "output_type": "display_data"
    },
    {
     "name": "stdout",
     "output_type": "stream",
     "text": [
      "\n",
      "Total non River:100\n",
      "Total River:50\n",
      "\n",
      "Predicted non River:100\n",
      "Predicted River:50\n"
     ]
    },
    {
     "data": {
      "text/plain": [
       "100.0"
      ]
     },
     "execution_count": 45,
     "metadata": {},
     "output_type": "execute_result"
    }
   ],
   "source": [
    "h = predict_river(x_train, freq, vocab)\n",
    "accuracy(h, y_train, freq, vocab)"
   ]
  },
  {
   "cell_type": "code",
   "execution_count": 21,
   "metadata": {},
   "outputs": [],
   "source": [
    "h = predict_river(x, freq, vocab)"
   ]
  },
  {
   "cell_type": "code",
   "execution_count": 22,
   "metadata": {},
   "outputs": [
    {
     "data": {
      "image/png": "[encoded data removed]",
      "text/plain": [
       "<Figure size 432x288 with 1 Axes>"
      ]
     },
     "metadata": {},
     "output_type": "display_data"
    },
    {
     "name": "stdout",
     "output_type": "stream",
     "text": [
      "\n",
      "Total non River:252695\n",
      "Total River:9449\n",
      "\n",
      "Predicted non River:252501\n",
      "Predicted River:9643\n"
     ]
    },
    {
     "data": {
      "text/plain": [
       "99.26605224609375"
      ]
     },
     "execution_count": 22,
     "metadata": {},
     "output_type": "execute_result"
    }
   ],
   "source": [
    "accuracy(h, y, freq, vocab)"
   ]
  },
  {
   "cell_type": "code",
   "execution_count": 23,
   "metadata": {},
   "outputs": [],
   "source": [
    "x1 = pd.DataFrame(np.array(img).T,).iloc[:,:4]\n",
    "x1 = x1.rename(index=str, columns={0:'Rband', 1:'Gband', 2:'Bband', 3:'Iband'})"
   ]
  },
  {
   "cell_type": "code",
   "execution_count": 53,
   "metadata": {},
   "outputs": [
    {
     "data": {
      "text/html": [
       "<div>\n",
       "<style scoped>\n",
       "    .dataframe tbody tr th:only-of-type {\n",
       "        vertical-align: middle;\n",
       "    }\n",
       "\n",
       "    .dataframe tbody tr th {\n",
       "        vertical-align: top;\n",
       "    }\n",
       "\n",
       "    .dataframe thead th {\n",
       "        text-align: right;\n",
       "    }\n",
       "</style>\n",
       "<table border=\"1\" class=\"dataframe\">\n",
       "  <thead>\n",
       "    <tr style=\"text-align: right;\">\n",
       "      <th></th>\n",
       "      <th>Rband</th>\n",
       "      <th>Gband</th>\n",
       "      <th>Bband</th>\n",
       "      <th>Iband</th>\n",
       "    </tr>\n",
       "  </thead>\n",
       "  <tbody>\n",
       "    <tr>\n",
       "      <th>0</th>\n",
       "      <td>41</td>\n",
       "      <td>27</td>\n",
       "      <td>26</td>\n",
       "      <td>42</td>\n",
       "    </tr>\n",
       "    <tr>\n",
       "      <th>1</th>\n",
       "      <td>41</td>\n",
       "      <td>27</td>\n",
       "      <td>29</td>\n",
       "      <td>41</td>\n",
       "    </tr>\n",
       "    <tr>\n",
       "      <th>2</th>\n",
       "      <td>38</td>\n",
       "      <td>25</td>\n",
       "      <td>26</td>\n",
       "      <td>40</td>\n",
       "    </tr>\n",
       "    <tr>\n",
       "      <th>3</th>\n",
       "      <td>38</td>\n",
       "      <td>23</td>\n",
       "      <td>21</td>\n",
       "      <td>39</td>\n",
       "    </tr>\n",
       "    <tr>\n",
       "      <th>4</th>\n",
       "      <td>37</td>\n",
       "      <td>23</td>\n",
       "      <td>22</td>\n",
       "      <td>39</td>\n",
       "    </tr>\n",
       "  </tbody>\n",
       "</table>\n",
       "</div>"
      ],
      "text/plain": [
       "   Rband  Gband  Bband  Iband\n",
       "0     41     27     26     42\n",
       "1     41     27     29     41\n",
       "2     38     25     26     40\n",
       "3     38     23     21     39\n",
       "4     37     23     22     39"
      ]
     },
     "execution_count": 53,
     "metadata": {},
     "output_type": "execute_result"
    }
   ],
   "source": [
    "x1.head()"
   ]
  },
  {
   "cell_type": "code",
   "execution_count": 54,
   "metadata": {},
   "outputs": [],
   "source": [
    "pred = predict_river(x1, freq, vocab)"
   ]
  },
  {
   "cell_type": "code",
   "execution_count": 56,
   "metadata": {},
   "outputs": [],
   "source": [
    "pred[np.where(pred > 0)] = 255"
   ]
  },
  {
   "cell_type": "code",
   "execution_count": 57,
   "metadata": {},
   "outputs": [],
   "source": [
    "pred = pred.reshape(512,-1)"
   ]
  },
  {
   "cell_type": "code",
   "execution_count": 58,
   "metadata": {},
   "outputs": [
    {
     "data": {
      "text/plain": [
       "<matplotlib.image.AxesImage at 0x1a236ccbe0>"
      ]
     },
     "execution_count": 58,
     "metadata": {},
     "output_type": "execute_result"
    },
    {
     "data": {
      "image/png": "[encoded data removed]",
      "text/plain": [
       "<Figure size 432x288 with 1 Axes>"
      ]
     },
     "metadata": {},
     "output_type": "display_data"
    }
   ],
   "source": [
    "plt.imshow(pred, cmap='gray')"
   ]
  },
  {
   "cell_type": "code",
   "execution_count": null,
   "metadata": {},
   "outputs": [],
   "source": []
  }
 ],
 "metadata": {
  "kernelspec": {
   "display_name": "Python 3",
   "language": "python",
   "name": "python3"
  },
  "language_info": {
   "codemirror_mode": {
    "name": "ipython",
    "version": 3
   },
   "file_extension": ".py",
   "mimetype": "text/x-python",
   "name": "python",
   "nbconvert_exporter": "python",
   "pygments_lexer": "ipython3",
   "version": "3.6.8"
  }
 },
 "nbformat": 4,
 "nbformat_minor": 2
}
