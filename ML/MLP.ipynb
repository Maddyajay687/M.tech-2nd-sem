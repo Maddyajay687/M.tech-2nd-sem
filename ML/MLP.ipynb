{
 "cells": [
  {
   "cell_type": "code",
   "execution_count": 1,
   "metadata": {},
   "outputs": [],
   "source": [
    "import numpy as np\n",
    "import matplotlib.pyplot as plt"
   ]
  },
  {
   "cell_type": "code",
   "execution_count": 2,
   "metadata": {},
   "outputs": [],
   "source": [
    "XOR=np.array([[0,0,0],[0,1,1],[1,0,1],[1,1,0]])\n",
    "X=XOR[:,0:2]\n",
    "y=XOR[:,-1]"
   ]
  },
  {
   "cell_type": "code",
   "execution_count": 3,
   "metadata": {},
   "outputs": [
    {
     "name": "stdout",
     "output_type": "stream",
     "text": [
      "[[0 0]\n",
      " [0 1]\n",
      " [1 0]\n",
      " [1 1]]\n",
      "[0 1 1 0]\n"
     ]
    }
   ],
   "source": [
    "print(X)\n",
    "print(y)"
   ]
  },
  {
   "cell_type": "code",
   "execution_count": 4,
   "metadata": {},
   "outputs": [],
   "source": [
    "def print_net(net):\n",
    "    for i,layer in enumerate(net,1):\n",
    "        print('Layer {}'.format(i))\n",
    "        for j,neuron in enumerate(layer,1):\n",
    "            print(\"neuron {} :\".format(j),neuron)"
   ]
  },
  {
   "cell_type": "code",
   "execution_count": 7,
   "metadata": {},
   "outputs": [],
   "source": [
    "def initialize_network():\n",
    "    #Defining the network architecture\n",
    "    input_neurons=len(X[0])\n",
    "    #hidden_neurons=input_neurons+1\n",
    "    hidden_neurons=input_neurons+2\n",
    "\n",
    "    output_neurons=2\n",
    "    n_hidden_layers=1\n",
    "    \n",
    "    net=list()\n",
    "    \n",
    "    for h in range(n_hidden_layers):\n",
    "        if h!=0:\n",
    "            input_neurons=len(net[-1])\n",
    "            \n",
    "        hidden_layer = [ { 'weights': np.random.uniform(size=input_neurons)} for i in range(hidden_neurons) ]\n",
    "        net.append(hidden_layer)\n",
    "    \n",
    "    output_layer = [ { 'weights': np.random.uniform(size=hidden_neurons)} for i in range(output_neurons)]\n",
    "    net.append(output_layer)\n",
    "    \n",
    "    return net"
   ]
  },
  {
   "cell_type": "code",
   "execution_count": 8,
   "metadata": {},
   "outputs": [
    {
     "name": "stdout",
     "output_type": "stream",
     "text": [
      "Layer 1\n",
      "neuron 1 : {'weights': array([0.13794267, 0.54887704])}\n",
      "neuron 2 : {'weights': array([0.70450198, 0.14598199])}\n",
      "neuron 3 : {'weights': array([0.2149439 , 0.90608063])}\n",
      "neuron 4 : {'weights': array([0.88216961, 0.80361951])}\n",
      "Layer 2\n",
      "neuron 1 : {'weights': array([0.46729358, 0.0097483 , 0.66347136, 0.78404881])}\n",
      "neuron 2 : {'weights': array([0.17799491, 0.79288545, 0.68965088, 0.49142997])}\n",
      "neuron 3 : {'weights': array([0.10136913, 0.72870969, 0.50692466, 0.36420286])}\n",
      "neuron 4 : {'weights': array([0.14009786, 0.68865908, 0.68047977, 0.50717349])}\n",
      "Layer 3\n",
      "neuron 1 : {'weights': array([0.59666528, 0.56918362, 0.15634789, 0.15824366])}\n",
      "neuron 2 : {'weights': array([0.89924399, 0.36794389, 0.13366703, 0.8406472 ])}\n"
     ]
    }
   ],
   "source": [
    "a=initialize_network()\n",
    "print_net(a)"
   ]
  },
  {
   "cell_type": "code",
   "execution_count": 9,
   "metadata": {},
   "outputs": [],
   "source": [
    "def activate_sigmoid(sum):\n",
    "    return (1/(1+np.exp(-sum)))"
   ]
  },
  {
   "cell_type": "code",
   "execution_count": 10,
   "metadata": {},
   "outputs": [],
   "source": [
    "#doubt what is neuron['result']\n",
    "def forward_prop(net,input):\n",
    "    row = input\n",
    "    for layer in net:\n",
    "        prev_input = np.array([])\n",
    "        for neuron in layer:\n",
    "            #print(neuron['weights'])\n",
    "            #print(row)\n",
    "            sum=neuron['weights'].T.dot(row)\n",
    "            #sum = np.matmul(neuron['weights'],row)\n",
    "            #print(\"sum = \",sum)\n",
    "            result=activate_sigmoid(sum)\n",
    "            neuron['result']=result\n",
    "            prev_input=np.append(prev_input,[result])\n",
    "        row =prev_input\n",
    "    return row"
   ]
  },
  {
   "cell_type": "code",
   "execution_count": 11,
   "metadata": {},
   "outputs": [],
   "source": [
    "def sigmoidDerivative(sigma):\n",
    "    return sigma*(1.0-sigma)"
   ]
  },
  {
   "cell_type": "code",
   "execution_count": 12,
   "metadata": {},
   "outputs": [],
   "source": [
    "def back_propagation(net,row,expected):\n",
    "    for i in reversed(range(len(net))):\n",
    "        layer=net[i]\n",
    "        errors=np.array([])\n",
    "        if i == len(net)-1:\n",
    "            results=[neuron['result'] for neuron in layer]\n",
    "            errors = expected-np.array(results)\n",
    "        else:\n",
    "            for j in range(len(layer)):\n",
    "                herror=0\n",
    "                nextlayer=net[i+1]\n",
    "                for neuron in nextlayer:\n",
    "                    herror+=(neuron['weights'][j]*neuron['delta'])\n",
    "                errors=np.append(errors,[herror])\n",
    "        for j in range(len(layer)):\n",
    "                neuron=layer[j]\n",
    "                neuron['delta']=errors[j]*sigmoidDerivative(neuron['result'])"
   ]
  },
  {
   "cell_type": "code",
   "execution_count": 13,
   "metadata": {},
   "outputs": [],
   "source": [
    "def updateWeights(net,input,lrate):\n",
    "    for i in range(len(net)):\n",
    "        inputs = input\n",
    "        if i!=0:\n",
    "            inputs=[neuron['result'] for neuron in net[i-1]]\n",
    "        for neuron in net[i]:\n",
    "            for j in range(len(inputs)):\n",
    "                neuron['weights'][j]+=lrate*neuron['delta']*inputs[j]"
   ]
  },
  {
   "cell_type": "code",
   "execution_count": 14,
   "metadata": {},
   "outputs": [],
   "source": [
    "def training(net, epochs,lrate,n_outputs):\n",
    "    errors=[]\n",
    "    for epoch in range(epochs):\n",
    "        sum_error = 0\n",
    "        for i, row in enumerate(X):\n",
    "            outputs = forward_prop(net,row)\n",
    "            expected=[0.0 for i in range(n_outputs)]\n",
    "            expected[y[i]]=1\n",
    "            sum_error+=sum([(expected[j]-outputs[j])**2 for j in range(len(expected))])\n",
    "            back_propagation(net,row,expected)\n",
    "            updateWeights(net,row,0.05)\n",
    "        if epoch%10000 ==0:\n",
    "            print('>epoch=%d,error=%.3f'%(epoch,sum_error))\n",
    "            errors.append(sum_error)\n",
    "    return errors"
   ]
  },
  {
   "cell_type": "code",
   "execution_count": 15,
   "metadata": {},
   "outputs": [
    {
     "name": "stdout",
     "output_type": "stream",
     "text": [
      ">epoch=0,error=2.761\n",
      ">epoch=10000,error=1.989\n",
      ">epoch=20000,error=0.012\n"
     ]
    }
   ],
   "source": [
    "errors=training(a,30000, 0.05,2)"
   ]
  },
  {
   "cell_type": "code",
   "execution_count": 16,
   "metadata": {},
   "outputs": [
    {
     "name": "stdout",
     "output_type": "stream",
     "text": [
      "Layer 1\n",
      "neuron 1 : {'weights': array([-0.79641455,  2.10695679]), 'result': 0.7875963687628754, 'delta': 0.0004488927349247362}\n",
      "neuron 2 : {'weights': array([ 4.95900539, -2.32319809]), 'result': 0.9331283962064614, 'delta': 0.00038917405951896316}\n",
      "neuron 3 : {'weights': array([-1.91879192,  4.26625387]), 'result': 0.9127292359905997, 'delta': 0.000381922551605905}\n",
      "neuron 4 : {'weights': array([4.84444661, 4.81524247]), 'result': 0.9999361997182107, 'delta': -6.757813124041413e-07}\n",
      "Layer 2\n",
      "neuron 1 : {'weights': array([-0.93084975, -2.23686926, -1.59622628,  3.75527384]), 'result': 0.37233609845696175, 'delta': -0.0006037721087549008}\n",
      "neuron 2 : {'weights': array([ 1.29878817,  3.44911277,  2.81440895, -5.69047752]), 'result': 0.7539824074743772, 'delta': 0.0005944256071797981}\n",
      "neuron 3 : {'weights': array([ 1.19138915,  3.17425018,  2.56916033, -5.25043018]), 'result': 0.7300889474739114, 'delta': 0.0005739301936298015}\n",
      "neuron 4 : {'weights': array([-1.14995839, -1.75239206, -1.18104351,  3.33367684]), 'result': 0.4291493936333936, 'delta': -0.000578780737972329}\n",
      "Layer 3\n",
      "neuron 1 : {'weights': array([-3.8928489 ,  5.12305961,  4.3687766 , -3.78018952]), 'result': 0.9816670934651284, 'delta': 0.00032993385532439885}\n",
      "neuron 2 : {'weights': array([ 4.15427688, -4.84237595, -4.70413222,  3.56658683]), 'result': 0.017843819653262948, 'delta': -0.0003127203937405612}\n"
     ]
    }
   ],
   "source": [
    "print_net(a)"
   ]
  },
  {
   "cell_type": "code",
   "execution_count": 17,
   "metadata": {},
   "outputs": [
    {
     "data": {
      "image/png": "[encoded data removed]",
      "text/plain": [
       "<Figure size 432x288 with 1 Axes>"
      ]
     },
     "metadata": {},
     "output_type": "display_data"
    }
   ],
   "source": [
    "epochs=[0,1,2]\n",
    "plt.plot(epochs,errors)\n",
    "plt.xlabel(\"epochs in 10000's\")\n",
    "plt.ylabel('error')\n",
    "plt.show()"
   ]
  },
  {
   "cell_type": "code",
   "execution_count": 18,
   "metadata": {},
   "outputs": [],
   "source": [
    "def predict(network, row):\n",
    "    outputs = forward_prop(a, row)\n",
    "    return outputs"
   ]
  },
  {
   "cell_type": "code",
   "execution_count": 22,
   "metadata": {},
   "outputs": [
    {
     "name": "stdout",
     "output_type": "stream",
     "text": [
      "0\n"
     ]
    }
   ],
   "source": [
    "pred=predict(a,np.array([0,0]))\n",
    "output=np.argmax(pred)\n",
    "print(output)"
   ]
  },
  {
   "cell_type": "code",
   "execution_count": null,
   "metadata": {},
   "outputs": [],
   "source": []
  }
 ],
 "metadata": {
  "kernelspec": {
   "display_name": "Python 3",
   "language": "python",
   "name": "python3"
  },
  "language_info": {
   "codemirror_mode": {
    "name": "ipython",
    "version": 3
   },
   "file_extension": ".py",
   "mimetype": "text/x-python",
   "name": "python",
   "nbconvert_exporter": "python",
   "pygments_lexer": "ipython3",
   "version": "3.6.8"
  }
 },
 "nbformat": 4,
 "nbformat_minor": 2
}
