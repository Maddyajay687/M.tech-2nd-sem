{
 "cells": [
  {
   "cell_type": "code",
   "execution_count": 10,
   "metadata": {
    "ExecuteTime": {
     "end_time": "2019-04-12T06:49:22.825326Z",
     "start_time": "2019-04-12T06:49:22.252878Z"
    }
   },
   "outputs": [],
   "source": [
    "from cvxopt import matrix, solvers\n",
    "import scipy.io as sc\n",
    "import numpy as np\n",
    "import pandas as pd"
   ]
  },
  {
   "cell_type": "code",
   "execution_count": 11,
   "metadata": {
    "ExecuteTime": {
     "end_time": "2019-04-12T06:49:22.842465Z",
     "start_time": "2019-04-12T06:49:22.829241Z"
    }
   },
   "outputs": [],
   "source": [
    "def Normalize_std(X_train, X_test):\n",
    "    mean = np.mean(X_train)\n",
    "    std_deviation = np.std(X_train)\n",
    "    X_train = ((X_train - mean)/std_deviation)\n",
    "    X_test = ((X_test - mean)/std_deviation)\n",
    "    return X_train, X_test\n",
    "\n",
    "def Normaize_min_max(X_train, X_test):\n",
    "    min1 = np.min(X_train)\n",
    "    max1 = np.max(X_train)\n",
    "    X_train = ((X_train - min1)/(max1-min1))\n",
    "    X_test = ((X_test - min1)/(max1-min1))\n",
    "    return X_train, X_test"
   ]
  },
  {
   "cell_type": "code",
   "execution_count": 12,
   "metadata": {
    "ExecuteTime": {
     "end_time": "2019-04-12T06:49:22.933417Z",
     "start_time": "2019-04-12T06:49:22.846464Z"
    }
   },
   "outputs": [],
   "source": [
    "def load():\n",
    "    df = sc.loadmat('spamdata.mat')\n",
    "    \n",
    "    X_train = df['xtrain']\n",
    "    X_test = df['xtest']\n",
    "    y_train = df['ytrain']\n",
    "    y_test = df['ytest']\n",
    "\n",
    "    X_train = np.insert(X_train, 0, 1, axis=1)\n",
    "    X_test = np.insert(X_test, 0, 1, axis=1)\n",
    "#     X_train, X_test = Normaize_min_max(X_train, X_test)\n",
    "     \n",
    "    return X_train, X_test, y_train, y_test\n",
    "\n",
    "X_train, X_test, y_train, y_test = load()"
   ]
  },
  {
   "cell_type": "code",
   "execution_count": 13,
   "metadata": {
    "ExecuteTime": {
     "end_time": "2019-04-12T06:49:23.042325Z",
     "start_time": "2019-04-12T06:49:22.939735Z"
    }
   },
   "outputs": [
    {
     "data": {
      "text/plain": [
       "((500, 58), (500, 1), (2000, 58), (2000, 1))"
      ]
     },
     "execution_count": 13,
     "metadata": {},
     "output_type": "execute_result"
    }
   ],
   "source": [
    "X_train.shape, y_train.shape, X_test.shape, y_test.shape"
   ]
  },
  {
   "cell_type": "code",
   "execution_count": 14,
   "metadata": {
    "ExecuteTime": {
     "end_time": "2019-04-12T06:49:23.174649Z",
     "start_time": "2019-04-12T06:49:23.047706Z"
    }
   },
   "outputs": [],
   "source": [
    "# np.random.seed(13)\n",
    "w = np.random.normal(0,1,X_train.shape[1]).reshape(-1,1)\n",
    "epochs=1000"
   ]
  },
  {
   "cell_type": "code",
   "execution_count": 15,
   "metadata": {
    "ExecuteTime": {
     "end_time": "2019-04-12T06:49:23.254790Z",
     "start_time": "2019-04-12T06:49:23.179394Z"
    }
   },
   "outputs": [
    {
     "data": {
      "text/plain": [
       "(500, 58)"
      ]
     },
     "execution_count": 15,
     "metadata": {},
     "output_type": "execute_result"
    }
   ],
   "source": [
    "X_train.shape"
   ]
  },
  {
   "cell_type": "code",
   "execution_count": 16,
   "metadata": {
    "ExecuteTime": {
     "end_time": "2019-04-12T06:49:24.848321Z",
     "start_time": "2019-04-12T06:49:23.260319Z"
    }
   },
   "outputs": [],
   "source": [
    "def gradient(X_train, y_train, w, epochs, alpha = 0.1):\n",
    "    for i in range(epochs):\n",
    "        np.random.shuffle(X_train)\n",
    "        \n",
    "        cost = w.T @ w\n",
    "        \n",
    "        w = w - 2 * alpha * w\n",
    "        \n",
    "    return w\n",
    "        \n",
    "weights = gradient(X_train, y_train, w, epochs)\n"
   ]
  },
  {
   "cell_type": "code",
   "execution_count": 17,
   "metadata": {
    "ExecuteTime": {
     "end_time": "2019-04-12T06:49:24.889948Z",
     "start_time": "2019-04-12T06:49:24.850932Z"
    }
   },
   "outputs": [
    {
     "name": "stdout",
     "output_type": "stream",
     "text": [
      "Training Accuracy :  0.5900000000000001    Test Accuracy :  0.5860000000000001\n"
     ]
    }
   ],
   "source": [
    "error1 = np.abs(((X_train @ w) > 0) * 1 - (y_train>0) * 1).mean()\n",
    "error2 = np.abs(((X_test @ w) > 0) * 1 - (y_test>0) * 1).mean()\n",
    "\n",
    "accuracy_train = 1 - error1\n",
    "accuracy_test = 1 - error2\n",
    "\n",
    "print(\"Training Accuracy : \", accuracy_train, \"   Test Accuracy : \", accuracy_test)"
   ]
  },
  {
   "cell_type": "code",
   "execution_count": 18,
   "metadata": {
    "ExecuteTime": {
     "end_time": "2019-04-12T06:49:25.534107Z",
     "start_time": "2019-04-12T06:49:24.893637Z"
    }
   },
   "outputs": [
    {
     "name": "stdout",
     "output_type": "stream",
     "text": [
      "0.5935\n"
     ]
    }
   ],
   "source": [
    "from sklearn.metrics import accuracy_score\n",
    "preds=[]\n",
    "\n",
    "result= X_test @ w\n",
    "for i in range(len(result)):\n",
    "    if(result[i]>1):\n",
    "        preds.append(1)\n",
    "    else:\n",
    "        preds.append(-1)\n",
    "\n",
    "print(accuracy_score(y_test,preds))"
   ]
  },
  {
   "cell_type": "code",
   "execution_count": null,
   "metadata": {},
   "outputs": [],
   "source": []
  }
 ],
 "metadata": {
  "kernelspec": {
   "display_name": "Python 3",
   "language": "python",
   "name": "python3"
  },
  "language_info": {
   "codemirror_mode": {
    "name": "ipython",
    "version": 3
   },
   "file_extension": ".py",
   "mimetype": "text/x-python",
   "name": "python",
   "nbconvert_exporter": "python",
   "pygments_lexer": "ipython3",
   "version": "3.6.8"
  },
  "toc": {
   "base_numbering": 1,
   "nav_menu": {},
   "number_sections": true,
   "sideBar": true,
   "skip_h1_title": false,
   "title_cell": "Table of Contents",
   "title_sidebar": "Contents",
   "toc_cell": false,
   "toc_position": {},
   "toc_section_display": true,
   "toc_window_display": false
  }
 },
 "nbformat": 4,
 "nbformat_minor": 2
}
