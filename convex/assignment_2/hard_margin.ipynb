{
 "cells": [
  {
   "cell_type": "code",
   "execution_count": 1,
   "metadata": {},
   "outputs": [],
   "source": [
    "import pandas as pd\n",
    "import numpy as np\n",
    "import matplotlib.pyplot as plt\n",
    "import scipy.io as sc\n",
    "from cvxopt import solvers,matrix "
   ]
  },
  {
   "cell_type": "code",
   "execution_count": 2,
   "metadata": {},
   "outputs": [
    {
     "data": {
      "text/plain": [
       "['.DS_Store',\n",
       " 'state_of_the_art_hard_margin.ipynb',\n",
       " '.ipynb_checkpoints',\n",
       " 'spamdata.mat',\n",
       " '771A_lec8_slides.pdf',\n",
       " 'ACFrOgBA8JRQCnWZNF2y9MGVmmmF98EOE4PqZKLg9TZ1A0CvsQWvcuXC-3CL8jVSyp9rk6Fu0E3ujkwkgt8up0YOSIBYZFstEDQuFvTitC5bOK9Ih14Z5qbMnuOS3og=.pdf']"
      ]
     },
     "execution_count": 2,
     "metadata": {},
     "output_type": "execute_result"
    }
   ],
   "source": [
    "import os\n",
    "os.listdir()"
   ]
  },
  {
   "cell_type": "code",
   "execution_count": 3,
   "metadata": {},
   "outputs": [],
   "source": [
    "data = sc.loadmat('spamdata.mat')"
   ]
  },
  {
   "cell_type": "code",
   "execution_count": 4,
   "metadata": {},
   "outputs": [],
   "source": [
    "list = ['xtrain', 'ytrain', 'xtest', 'ytest']"
   ]
  },
  {
   "cell_type": "code",
   "execution_count": 5,
   "metadata": {},
   "outputs": [],
   "source": [
    "xtest, xtrain, ytest, ytrain = data['xtrain'], data['xtest'], data['ytrain'], data['ytest']"
   ]
  },
  {
   "cell_type": "code",
   "execution_count": 6,
   "metadata": {},
   "outputs": [
    {
     "data": {
      "text/plain": [
       "((2000, 57), (2000, 1), (500, 57), (500, 1))"
      ]
     },
     "execution_count": 6,
     "metadata": {},
     "output_type": "execute_result"
    }
   ],
   "source": [
    "xtrain.shape,ytrain.shape,xtest.shape, ytest.shape"
   ]
  },
  {
   "cell_type": "code",
   "execution_count": 7,
   "metadata": {},
   "outputs": [
    {
     "data": {
      "text/plain": [
       "(2000, 57)"
      ]
     },
     "execution_count": 7,
     "metadata": {},
     "output_type": "execute_result"
    }
   ],
   "source": [
    "xtrain.shape"
   ]
  },
  {
   "cell_type": "markdown",
   "metadata": {},
   "source": [
    "Our dual problem is expressed as:\n",
    "$\\max_{\\alpha} \\sum_i^m \\alpha_i - \\frac{1}{2} \\sum_{i,j}^m y^{(i)}y^{(j)} \\alpha_i \\alpha_j <x^{(i)} x^{(j)}>$\n",
    "\n",
    "Let H be a matrix such that $H_{i,j} = y^{(i)}y^{(j)} <x^{(i)} x^{(j)}>$ , then the optimization becomes:\n",
    "\n",
    "$\\begin{aligned}\n",
    "    & \\max_{\\alpha} \\sum_i^m \\alpha_i  - \\frac{1}{2}  \\alpha^T \\mathbf{H}  \\alpha\n",
    "    \\\\\n",
    "     s.t. & \\ \\alpha_i \\geq 0 \n",
    "    \\\\\n",
    "    &  \\ \\sum_i^m \\alpha_i y^{(i)} = 0  \n",
    "\\end{aligned}$"
   ]
  },
  {
   "cell_type": "markdown",
   "metadata": {},
   "source": [
    "Equation to be solved using Solver\n",
    "$\\begin{aligned}\n",
    "    & \\min \\frac{1}{2} x^TPx + q^Tx\n",
    "    \\\\\n",
    "     s.t. \\ & \\ Gx \\leq h \n",
    "    \\\\\n",
    "    & \\ Ax = b\n",
    "\\end{aligned}$"
   ]
  },
  {
   "cell_type": "code",
   "execution_count": 8,
   "metadata": {},
   "outputs": [
    {
     "name": "stdout",
     "output_type": "stream",
     "text": [
      "     pcost       dcost       gap    pres   dres\n",
      " 0: -8.0766e+02 -3.8120e+03  3e+04  1e+02  5e+00\n",
      " 1: -2.1291e+03 -7.5066e+03  2e+04  9e+01  4e+00\n",
      " 2: -4.0466e+03 -1.1583e+04  2e+04  7e+01  3e+00\n",
      " 3: -6.8509e+03 -1.7138e+04  2e+04  6e+01  2e+00\n",
      " 4: -1.2460e+04 -2.4511e+04  2e+04  5e+01  2e+00\n",
      " 5: -2.4424e+04 -3.8347e+04  2e+04  4e+01  2e+00\n",
      " 6: -4.1428e+04 -5.9380e+04  2e+04  4e+01  1e+00\n",
      " 7: -4.9789e+04 -7.0306e+04  2e+04  4e+01  1e+00\n",
      " 8: -1.3788e+05 -1.6557e+05  3e+04  3e+01  1e+00\n",
      " 9: -3.2653e+05 -3.7867e+05  5e+04  3e+01  1e+00\n",
      "10: -9.5556e+05 -1.0680e+06  1e+05  3e+01  1e+00\n",
      "11: -4.1485e+06 -4.4639e+06  3e+05  3e+01  1e+00\n",
      "12: -1.5262e+07 -1.6201e+07  9e+05  3e+01  1e+00\n",
      "13: -1.3535e+08 -1.3987e+08  5e+06  3e+01  1e+00\n",
      "14: -5.1586e+08 -5.3130e+08  2e+07  3e+01  1e+00\n",
      "15: -5.1654e+08 -5.3199e+08  2e+07  3e+01  1e+00\n",
      "16: -5.2133e+08 -5.3677e+08  2e+07  3e+01  1e+00\n",
      "Terminated (singular KKT matrix).\n"
     ]
    }
   ],
   "source": [
    "m,n = xtrain.shape\n",
    "ytrain = ytrain.reshape(-1,1) * 1.\n",
    "X_dash = ytrain * xtrain\n",
    "H = np.dot(X_dash , X_dash.T) * 1.\n",
    "\n",
    "#Converting into cvxopt format\n",
    "P = matrix(H)\n",
    "q = matrix(-np.ones((m, 1)))\n",
    "G = matrix(-np.eye(m))\n",
    "h = matrix(np.zeros(m))\n",
    "A = matrix(ytrain.reshape(1, -1))\n",
    "b = matrix(np.zeros(1))\n",
    "\n",
    "sol = solvers.qp(P, q, G, h, A, b)\n",
    "alphas = np.array(sol['x'])"
   ]
  },
  {
   "cell_type": "code",
   "execution_count": 9,
   "metadata": {},
   "outputs": [
    {
     "data": {
      "text/plain": [
       "(2000, 1)"
      ]
     },
     "execution_count": 9,
     "metadata": {},
     "output_type": "execute_result"
    }
   ],
   "source": [
    "alphas.shape"
   ]
  },
  {
   "cell_type": "code",
   "execution_count": 10,
   "metadata": {},
   "outputs": [
    {
     "name": "stdout",
     "output_type": "stream",
     "text": [
      "Alphas =  [342162.94793939 134434.23098234  32532.43827815 ...   1686.26713287\n",
      " 557538.52491428 191765.80204683]\n",
      "w =  [-3.68862506e-03 -2.72541679e-03  2.39631347e-03  2.23090523e-03\n",
      "  3.43648903e-03  1.98951690e-03  4.87624947e-03 -6.06043264e-04\n",
      " -1.62086869e-03  1.51494518e-03  9.25127836e-03  1.09165907e-04\n",
      "  1.24016777e-04 -4.25396863e-03  6.92067295e-03  3.50269070e-03\n",
      "  9.64724831e-03  4.00851294e-03 -5.48943877e-04  1.05295721e-02\n",
      "  1.19778700e-03  6.57060079e-03  3.28283380e-02  1.94522631e-02\n",
      " -6.10632449e-03 -7.54110515e-04 -4.00717510e-03 -4.28592786e-04\n",
      " -6.23642141e-03 -2.59834807e-03 -3.19496728e-04  6.80176038e-02\n",
      "  2.09021568e-03 -5.11894582e-02 -1.92201440e-02  7.44693447e-03\n",
      " -1.68622471e-04 -6.72999595e-04 -1.20855889e-02 -4.80626733e-03\n",
      " -2.56961748e-03 -1.19084315e-02  2.64571793e-03 -2.86572957e-02\n",
      " -5.12247439e-03 -7.39713944e-03 -3.56334445e-02 -4.39670343e-02\n",
      " -3.26519881e-02  2.65846774e-03 -2.03737721e-02  1.30632520e-03\n",
      "  3.64748025e-02  8.61564832e-03 -7.77840614e-05  5.24520874e-06\n",
      "  1.90734863e-06]\n",
      "b =  [0.99312707]\n"
     ]
    }
   ],
   "source": [
    "w = ((ytrain * alphas).T @ xtrain).reshape(-1,1)\n",
    "\n",
    "S = (alphas > 1e-4).flatten()\n",
    "\n",
    "b = ytrain[S] - np.dot(xtrain[S], w)\n",
    "\n",
    "print('Alphas = ',alphas[alphas > 1e-4])\n",
    "print('w = ', w.flatten())\n",
    "print('b = ', b[0])"
   ]
  },
  {
   "cell_type": "code",
   "execution_count": 18,
   "metadata": {},
   "outputs": [],
   "source": [
    "error = np.abs((xtest @ w  > 0) * 1 - (ytest > 0)).mean()"
   ]
  },
  {
   "cell_type": "code",
   "execution_count": 19,
   "metadata": {},
   "outputs": [],
   "source": [
    "accuracy = 1 - error"
   ]
  },
  {
   "cell_type": "code",
   "execution_count": 20,
   "metadata": {},
   "outputs": [
    {
     "name": "stdout",
     "output_type": "stream",
     "text": [
      "Accuracy and  error on Test set is 84.39999999999999 and 15.6\n"
     ]
    }
   ],
   "source": [
    "print(\"Accuracy and  error on Test set is {} and {}\".format(accuracy*100, error*100))"
   ]
  },
  {
   "cell_type": "code",
   "execution_count": 21,
   "metadata": {},
   "outputs": [
    {
     "data": {
      "text/plain": [
       "-2.903863787651062e-06"
      ]
     },
     "execution_count": 21,
     "metadata": {},
     "output_type": "execute_result"
    }
   ],
   "source": [
    "np.sum(alphas * ytrain)"
   ]
  },
  {
   "cell_type": "code",
   "execution_count": 22,
   "metadata": {},
   "outputs": [
    {
     "data": {
      "text/plain": [
       "array([[ 0.99312707],\n",
       "       [ 0.97277672],\n",
       "       [-0.94998345],\n",
       "       ...,\n",
       "       [-0.96353402],\n",
       "       [ 0.98864695],\n",
       "       [-1.0034413 ]])"
      ]
     },
     "execution_count": 22,
     "metadata": {},
     "output_type": "execute_result"
    }
   ],
   "source": [
    "b"
   ]
  },
  {
   "cell_type": "code",
   "execution_count": 25,
   "metadata": {},
   "outputs": [],
   "source": [
    "error1 = np.abs((xtrain @ w  > 0) * 1 - (ytrain > 0)).mean()"
   ]
  },
  {
   "cell_type": "code",
   "execution_count": 26,
   "metadata": {},
   "outputs": [],
   "source": [
    "accuracy1 = 1 - error1"
   ]
  },
  {
   "cell_type": "code",
   "execution_count": 28,
   "metadata": {},
   "outputs": [
    {
     "name": "stdout",
     "output_type": "stream",
     "text": [
      "Accuracy and  error on Training set is 86.8 and 13.200000000000001\n"
     ]
    }
   ],
   "source": [
    "print(\"Accuracy and  error on Training set is {} and {}\".format(accuracy1*100, error1*100))"
   ]
  },
  {
   "cell_type": "code",
   "execution_count": null,
   "metadata": {},
   "outputs": [],
   "source": []
  }
 ],
 "metadata": {
  "kernelspec": {
   "display_name": "Python 3",
   "language": "python",
   "name": "python3"
  },
  "language_info": {
   "codemirror_mode": {
    "name": "ipython",
    "version": 3
   },
   "file_extension": ".py",
   "mimetype": "text/x-python",
   "name": "python",
   "nbconvert_exporter": "python",
   "pygments_lexer": "ipython3",
   "version": "3.6.8"
  }
 },
 "nbformat": 4,
 "nbformat_minor": 2
}
