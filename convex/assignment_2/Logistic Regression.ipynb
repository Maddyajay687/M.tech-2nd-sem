{
 "cells": [
  {
   "cell_type": "markdown",
   "metadata": {},
   "source": [
    "## Logistic regression"
   ]
  },
  {
   "cell_type": "code",
   "execution_count": 1,
   "metadata": {},
   "outputs": [],
   "source": [
    "import scipy.io as sio\n",
    "import numpy as np\n",
    "import matplotlib.pyplot as plt"
   ]
  },
  {
   "cell_type": "code",
   "execution_count": 2,
   "metadata": {},
   "outputs": [],
   "source": [
    "data = sio.loadmat(\"spamdata.mat\")\n",
    "xtrain = data['xtrain']\n",
    "ytrain = data['ytrain']\n",
    "xtest = data['xtest']\n",
    "ytest = data['ytest']"
   ]
  },
  {
   "cell_type": "markdown",
   "metadata": {},
   "source": [
    "## Normalising data and adding bias"
   ]
  },
  {
   "cell_type": "code",
   "execution_count": 3,
   "metadata": {},
   "outputs": [],
   "source": [
    "mu = xtrain.mean(axis = 0)\n",
    "std = xtrain.std(axis = 0)\n",
    "xtrain = (xtrain - mu) / std\n",
    "xtest = (xtest - mu) / std\n",
    "xtrain = np.insert(xtrain,0,1,axis=1)\n",
    "xtest = np.insert(xtest,0,1,axis=1)"
   ]
  },
  {
   "cell_type": "markdown",
   "metadata": {},
   "source": [
    "## Cost Function\n",
    "L(u) = $log(1 + e^u) − u$ <br>\n",
    "u = $y(W^Tx + b)$"
   ]
  },
  {
   "cell_type": "code",
   "execution_count": 4,
   "metadata": {},
   "outputs": [],
   "source": [
    "def cost1(x,y,w):\n",
    "    u = (y * x @ w < 0 ) * (x @ w)\n",
    "    return (u).mean()   "
   ]
  },
  {
   "cell_type": "code",
   "execution_count": 5,
   "metadata": {},
   "outputs": [],
   "source": [
    "def cost(x,y,w):\n",
    "    u = y * x @ w\n",
    "    return (np.log(1 + np.exp(u)) - u).mean()   "
   ]
  },
  {
   "cell_type": "code",
   "execution_count": 6,
   "metadata": {},
   "outputs": [],
   "source": [
    "def train(x, y, alpha, gamma, iterations = 2000):\n",
    "    np.random.seed(2)\n",
    "    w = np.random.randn(xtrain.shape[1],1) / 10000\n",
    "    cost_list = []\n",
    "    for i in range(iterations):\n",
    "        u = y * x @ w\n",
    "        grad = (( -1 / (1 + np.exp(u)) ) * y * x).mean(axis=0).reshape(-1,1) + 2 * gamma * w\n",
    "        w = w - alpha * grad\n",
    "        cost_list.append(cost1(x,y,w))\n",
    "    return cost_list, w"
   ]
  },
  {
   "cell_type": "code",
   "execution_count": 7,
   "metadata": {},
   "outputs": [],
   "source": [
    "cost_list, w = train(xtrain,ytrain,alpha=0.01,gamma=0.1)"
   ]
  },
  {
   "cell_type": "code",
   "execution_count": 8,
   "metadata": {},
   "outputs": [
    {
     "data": {
      "text/plain": [
       "[<matplotlib.lines.Line2D at 0x7fd6b6964a20>]"
      ]
     },
     "execution_count": 8,
     "metadata": {},
     "output_type": "execute_result"
    },
    {
     "data": {
      "image/png": "[encoded data removed]",
      "text/plain": [
       "<Figure size 432x288 with 1 Axes>"
      ]
     },
     "metadata": {
      "needs_background": "light"
     },
     "output_type": "display_data"
    }
   ],
   "source": [
    "plt.plot(cost_list)"
   ]
  },
  {
   "cell_type": "code",
   "execution_count": 9,
   "metadata": {},
   "outputs": [
    {
     "name": "stdout",
     "output_type": "stream",
     "text": [
      "Accuracy = 90.8% \n",
      "Error \t = 9.2%\n"
     ]
    }
   ],
   "source": [
    "error = np.abs((xtrain @ w > 0)* 1 - (ytrain > 0)).mean()\n",
    "acc = 1- error\n",
    "print(\"Accuracy = {}% \\nError \\t = {}%\".format(acc*100,error*100))"
   ]
  },
  {
   "cell_type": "code",
   "execution_count": 10,
   "metadata": {},
   "outputs": [
    {
     "name": "stdout",
     "output_type": "stream",
     "text": [
      "Accuracy = 90.10000000000001% \n",
      "Error \t = 9.9%\n"
     ]
    }
   ],
   "source": [
    "error = np.abs((xtest @ w > 0)* 1 - (ytest > 0)).mean()\n",
    "acc = 1- error\n",
    "print(\"Accuracy = {}% \\nError \\t = {}%\".format(acc*100,error*100))"
   ]
  },
  {
   "cell_type": "code",
   "execution_count": null,
   "metadata": {},
   "outputs": [],
   "source": []
  }
 ],
 "metadata": {
  "kernelspec": {
   "display_name": "Python 3",
   "language": "python",
   "name": "python3"
  },
  "language_info": {
   "codemirror_mode": {
    "name": "ipython",
    "version": 3
   },
   "file_extension": ".py",
   "mimetype": "text/x-python",
   "name": "python",
   "nbconvert_exporter": "python",
   "pygments_lexer": "ipython3",
   "version": "3.6.8"
  }
 },
 "nbformat": 4,
 "nbformat_minor": 2
}
