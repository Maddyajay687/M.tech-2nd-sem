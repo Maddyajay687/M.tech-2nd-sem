{
 "cells": [
  {
   "cell_type": "code",
   "execution_count": 1,
   "metadata": {
    "ExecuteTime": {
     "end_time": "2019-04-12T07:46:21.682718Z",
     "start_time": "2019-04-12T07:46:21.127185Z"
    }
   },
   "outputs": [],
   "source": [
    "from cvxopt import matrix, solvers\n",
    "import scipy.io as sc\n",
    "import numpy as np\n",
    "import pandas as pd"
   ]
  },
  {
   "cell_type": "code",
   "execution_count": 2,
   "metadata": {
    "ExecuteTime": {
     "end_time": "2019-04-12T07:46:21.696366Z",
     "start_time": "2019-04-12T07:46:21.685847Z"
    }
   },
   "outputs": [],
   "source": [
    "def Normalize_std(X_train, X_test):\n",
    "    mean = np.mean(X_train)\n",
    "    std_deviation = np.std(X_train)\n",
    "    X_train = ((X_train - mean)/std_deviation)\n",
    "    X_test = ((X_test - mean)/std_deviation)\n",
    "    return X_train, X_test\n",
    "\n",
    "def Normaize_min_max(X_train, X_test):\n",
    "    min1 = np.min(X_train)\n",
    "    max1 = np.max(X_train)\n",
    "    X_train = ((X_train - min1)/(max1-min1))\n",
    "    X_test = ((X_test - min1)/(max1-min1))\n",
    "    return X_train, X_test"
   ]
  },
  {
   "cell_type": "code",
   "execution_count": 3,
   "metadata": {
    "ExecuteTime": {
     "end_time": "2019-04-12T07:46:21.784418Z",
     "start_time": "2019-04-12T07:46:21.699606Z"
    }
   },
   "outputs": [],
   "source": [
    "def load():\n",
    "    df = sc.loadmat('spamdata.mat')\n",
    "    \n",
    "    X_train = df['xtrain']\n",
    "    X_test = df['xtest']\n",
    "    y_train = df['ytrain']\n",
    "    y_test = df['ytest']\n",
    "\n",
    "    X_train = np.insert(X_train, 0, 1, axis=1)\n",
    "    X_test = np.insert(X_test, 0, 1, axis=1)\n",
    "#     X_train, X_test = Normaize_min_max(X_train, X_test)\n",
    "     \n",
    "    return X_train, X_test, y_train, y_test\n",
    "\n",
    "X_train, X_test, y_train, y_test = load()"
   ]
  },
  {
   "cell_type": "code",
   "execution_count": 4,
   "metadata": {
    "ExecuteTime": {
     "end_time": "2019-04-12T07:46:21.865566Z",
     "start_time": "2019-04-12T07:46:21.787997Z"
    }
   },
   "outputs": [
    {
     "data": {
      "text/plain": [
       "((500, 58), (500, 1), (2000, 58), (2000, 1))"
      ]
     },
     "execution_count": 4,
     "metadata": {},
     "output_type": "execute_result"
    }
   ],
   "source": [
    "X_train.shape, y_train.shape, X_test.shape, y_test.shape"
   ]
  },
  {
   "cell_type": "code",
   "execution_count": 5,
   "metadata": {
    "ExecuteTime": {
     "end_time": "2019-04-12T07:46:21.938991Z",
     "start_time": "2019-04-12T07:46:21.869130Z"
    }
   },
   "outputs": [],
   "source": [
    "np.random.seed(13)\n",
    "w = np.random.normal(0,1,X_train.shape[1]).reshape(-1,1)\n",
    "epochs=1000"
   ]
  },
  {
   "cell_type": "code",
   "execution_count": 6,
   "metadata": {
    "ExecuteTime": {
     "end_time": "2019-04-12T07:46:22.017809Z",
     "start_time": "2019-04-12T07:46:21.942605Z"
    }
   },
   "outputs": [
    {
     "data": {
      "text/plain": [
       "(500, 58)"
      ]
     },
     "execution_count": 6,
     "metadata": {},
     "output_type": "execute_result"
    }
   ],
   "source": [
    "X_train.shape"
   ]
  },
  {
   "cell_type": "code",
   "execution_count": 7,
   "metadata": {
    "ExecuteTime": {
     "end_time": "2019-04-12T07:46:30.503744Z",
     "start_time": "2019-04-12T07:46:22.020743Z"
    }
   },
   "outputs": [],
   "source": [
    "def pegesos(X_train, y_train, w, epochs):\n",
    "    for i in range(epochs):\n",
    "        np.random.shuffle(X_train)\n",
    "        X_ = y_train * (X_train @ w)\n",
    "        \n",
    "        for j in range(X_train.shape[0]):\n",
    "            \n",
    "            if (X_[j][0] < 1) : \n",
    "                w = (1 - 1/(1+i))*w + 1/(1+i) * y_train[j] * X_train[j]\n",
    "            elif (X_[j][0] >= 1):\n",
    "                w = (1 - 1/(1+i))*w\n",
    "                \n",
    "    return w\n",
    "        \n",
    "weights = pegesos(X_train, y_train, w, epochs)"
   ]
  },
  {
   "cell_type": "code",
   "execution_count": 8,
   "metadata": {
    "ExecuteTime": {
     "end_time": "2019-04-12T07:46:30.526943Z",
     "start_time": "2019-04-12T07:46:30.507045Z"
    }
   },
   "outputs": [
    {
     "name": "stdout",
     "output_type": "stream",
     "text": [
      "Training Accuracy :  0.406    Test Accuracy :  0.41400000000000003\n"
     ]
    }
   ],
   "source": [
    "error1 = np.abs(((X_train @ w) > 0) * 1 - (y_train>0) * 1).mean()\n",
    "error2 = np.abs(((X_test @ w) > 0) * 1 - (y_test>0) * 1).mean()\n",
    "\n",
    "accuracy_train = 1 - error1\n",
    "accuracy_test = 1 - error2\n",
    "\n",
    "print(\"Training Accuracy : \", accuracy_train, \"   Test Accuracy : \", accuracy_test)"
   ]
  },
  {
   "cell_type": "code",
   "execution_count": 9,
   "metadata": {
    "ExecuteTime": {
     "end_time": "2019-04-12T07:46:31.192188Z",
     "start_time": "2019-04-12T07:46:30.534666Z"
    }
   },
   "outputs": [
    {
     "name": "stdout",
     "output_type": "stream",
     "text": [
      "0.4155\n"
     ]
    }
   ],
   "source": [
    "from sklearn.metrics import accuracy_score\n",
    "preds=[]\n",
    "\n",
    "result= X_test @ w\n",
    "for i in range(len(result)):\n",
    "    if(result[i]>1):\n",
    "        preds.append(1)\n",
    "    else:\n",
    "        preds.append(-1)\n",
    "\n",
    "print(accuracy_score(y_test,preds))"
   ]
  }
 ],
 "metadata": {
  "kernelspec": {
   "display_name": "Python 3",
   "language": "python",
   "name": "python3"
  },
  "language_info": {
   "codemirror_mode": {
    "name": "ipython",
    "version": 3
   },
   "file_extension": ".py",
   "mimetype": "text/x-python",
   "name": "python",
   "nbconvert_exporter": "python",
   "pygments_lexer": "ipython3",
   "version": "3.6.8"
  },
  "toc": {
   "base_numbering": 1,
   "nav_menu": {},
   "number_sections": true,
   "sideBar": true,
   "skip_h1_title": false,
   "title_cell": "Table of Contents",
   "title_sidebar": "Contents",
   "toc_cell": false,
   "toc_position": {},
   "toc_section_display": true,
   "toc_window_display": false
  }
 },
 "nbformat": 4,
 "nbformat_minor": 2
}
