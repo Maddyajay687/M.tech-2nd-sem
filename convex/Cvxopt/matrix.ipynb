{
 "cells": [
  {
   "cell_type": "code",
   "execution_count": 1,
   "metadata": {},
   "outputs": [],
   "source": [
    "#Creating a matrix\n",
    "def read():\n",
    "    a = int(input('Enter number of rows '))\n",
    "    b = int(input('Enter number of columns '))\n",
    "    matrix = []\n",
    "    for i in range(a):\n",
    "        print('Enter row {}'.format(i+1))\n",
    "        m = input()\n",
    "        m = list(map(int, m.split()))\n",
    "        matrix.append(m)\n",
    "    return matrix"
   ]
  },
  {
   "cell_type": "code",
   "execution_count": 2,
   "metadata": {},
   "outputs": [],
   "source": [
    "def show(matrix):\n",
    "    print('*'*20)\n",
    "    for i in range(len(matrix)):\n",
    "        for data in matrix[i]:\n",
    "            print(data,end = \" \")\n",
    "        print()"
   ]
  },
  {
   "cell_type": "code",
   "execution_count": 3,
   "metadata": {},
   "outputs": [],
   "source": [
    "# Printing and storing transpose of a matrix\n",
    "def transpose(X):\n",
    "    result = [[X[j][i] for j in range(len(X))] for i in range(len(X[0]))]\n",
    "    return result"
   ]
  },
  {
   "cell_type": "code",
   "execution_count": 4,
   "metadata": {},
   "outputs": [],
   "source": [
    "def multiply(A,B):\n",
    "        result = []\n",
    "        for i in range(len(A)):\n",
    "            temp = []\n",
    "            for j in range(len(B[0])):\n",
    "                temp.append(0)\n",
    "            result.append(temp)\n",
    "        for i in range(len(A)):\n",
    "            for j in range(len(B[0])):\n",
    "                for k in range(len(B)):\n",
    "                    result[i][j] += A[i][k] * B[k][j]\n",
    "        return result"
   ]
  },
  {
   "cell_type": "code",
   "execution_count": 5,
   "metadata": {},
   "outputs": [],
   "source": [
    "def dot_product(A,B):\n",
    "    prod = []\n",
    "    for i in range(len(A)):\n",
    "        sum = 0\n",
    "        for data in range(len(A[i])):\n",
    "            sum += A[data][i] * B[data][i]\n",
    "        prod.append(sum)\n",
    "    return prod\n",
    "        "
   ]
  },
  {
   "cell_type": "code",
   "execution_count": 33,
   "metadata": {},
   "outputs": [],
   "source": [
    "def minor(m,i,j):\n",
    "    return [row[:j] + row[j+1:] for row in (m[:i]+m[i+1:])]\n",
    "\n",
    "def determinant(a):\n",
    "    if(len(a) == 2):\n",
    "        return a[0][0] * a[1][1] - a[0][1] * a[1][0]\n",
    "    if(len(a) == 1):\n",
    "        return a[0][0]\n",
    "    res = 0\n",
    "    for c in range(len(a)):\n",
    "        res += ((-1)**c)*a[0][c]*determinant(minor(a,0,c))\n",
    "    return res"
   ]
  },
  {
   "cell_type": "code",
   "execution_count": 34,
   "metadata": {},
   "outputs": [],
   "source": [
    "def co_factor(A):\n",
    "    fact = []\n",
    "    for i in range(len(A)):\n",
    "        ans = []\n",
    "        for j in range(len(A)):\n",
    "            print((-1)**(i+j))\n",
    "            ans.append(((-1) ** (i+j)) *  determinant(minor(A,i,j)))\n",
    "            print(ans)\n",
    "        fact.append(ans)\n",
    "    return fact\n"
   ]
  },
  {
   "cell_type": "code",
   "execution_count": 8,
   "metadata": {},
   "outputs": [],
   "source": [
    "def adjoint(A):\n",
    "    return transpose(co_factor(A))"
   ]
  },
  {
   "cell_type": "code",
   "execution_count": 29,
   "metadata": {},
   "outputs": [],
   "source": [
    "def inverse(A):\n",
    "    z = adjoint(A)\n",
    "    print(z)\n",
    "    d = determinant(A)\n",
    "    print(d)\n",
    "    inv = []\n",
    "    for i in range(len(z)):\n",
    "        new_lst = [x/d for x in z[i]]\n",
    "        inv.append(new_lst)\n",
    "    return inv    "
   ]
  },
  {
   "cell_type": "code",
   "execution_count": 10,
   "metadata": {},
   "outputs": [
    {
     "name": "stdout",
     "output_type": "stream",
     "text": [
      "Enter number of rows 2\n",
      "Enter number of columns 2\n",
      "Enter row 1\n",
      "1 2\n",
      "Enter row 2\n",
      "3 4\n"
     ]
    }
   ],
   "source": [
    "A = read()"
   ]
  },
  {
   "cell_type": "code",
   "execution_count": 35,
   "metadata": {},
   "outputs": [
    {
     "name": "stdout",
     "output_type": "stream",
     "text": [
      "1\n",
      "[4]\n",
      "-1\n",
      "[4, -3]\n",
      "-1\n",
      "[-2]\n",
      "1\n",
      "[-2, 1]\n",
      "[[4, -2], [-3, 1]]\n",
      "-2\n"
     ]
    },
    {
     "data": {
      "text/plain": [
       "[[-2.0, 1.0], [1.5, -0.5]]"
      ]
     },
     "execution_count": 35,
     "metadata": {},
     "output_type": "execute_result"
    }
   ],
   "source": [
    "inverse([[1,2],[3,4]])"
   ]
  },
  {
   "cell_type": "code",
   "execution_count": 27,
   "metadata": {},
   "outputs": [
    {
     "data": {
      "text/plain": [
       "-2"
      ]
     },
     "execution_count": 27,
     "metadata": {},
     "output_type": "execute_result"
    }
   ],
   "source": [
    "determinant([[1,2],[3,4]])"
   ]
  },
  {
   "cell_type": "code",
   "execution_count": 32,
   "metadata": {},
   "outputs": [
    {
     "name": "stdout",
     "output_type": "stream",
     "text": [
      "1\n",
      "[[4]]\n",
      "-1\n",
      "[[4], []]\n",
      "-1\n",
      "[[]]\n",
      "1\n",
      "[[], [1]]\n"
     ]
    },
    {
     "data": {
      "text/plain": [
       "[[[4], []], [[], [1]]]"
      ]
     },
     "execution_count": 32,
     "metadata": {},
     "output_type": "execute_result"
    }
   ],
   "source": [
    "co_factor([[1,2],[3,4]])"
   ]
  },
  {
   "cell_type": "code",
   "execution_count": null,
   "metadata": {},
   "outputs": [],
   "source": []
  },
  {
   "cell_type": "code",
   "execution_count": null,
   "metadata": {},
   "outputs": [],
   "source": []
  },
  {
   "cell_type": "code",
   "execution_count": null,
   "metadata": {},
   "outputs": [],
   "source": []
  }
 ],
 "metadata": {
  "kernelspec": {
   "display_name": "Python 3",
   "language": "python",
   "name": "python3"
  },
  "language_info": {
   "codemirror_mode": {
    "name": "ipython",
    "version": 3
   },
   "file_extension": ".py",
   "mimetype": "text/x-python",
   "name": "python",
   "nbconvert_exporter": "python",
   "pygments_lexer": "ipython3",
   "version": "3.6.8"
  }
 },
 "nbformat": 4,
 "nbformat_minor": 2
}
